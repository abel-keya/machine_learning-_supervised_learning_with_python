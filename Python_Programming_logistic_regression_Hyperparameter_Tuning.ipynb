{
  "nbformat": 4,
  "nbformat_minor": 0,
  "metadata": {
    "colab": {
      "name": "Python Programming: Hyperparameter Tuning",
      "provenance": [],
      "collapsed_sections": [
        "Cz6aV2saaAlS"
      ],
      "toc_visible": true,
      "include_colab_link": true
    },
    "kernelspec": {
      "name": "python3",
      "display_name": "Python 3"
    }
  },
  "cells": [
    {
      "cell_type": "markdown",
      "metadata": {
        "id": "view-in-github",
        "colab_type": "text"
      },
      "source": [
        "<a href=\"https://colab.research.google.com/github/abel-keya/machine_learning-_supervised_learning_with_python/blob/master/Python_Programming_logistic_regression_Hyperparameter_Tuning.ipynb\" target=\"_parent\"><img src=\"https://colab.research.google.com/assets/colab-badge.svg\" alt=\"Open In Colab\"/></a>"
      ]
    },
    {
      "cell_type": "markdown",
      "metadata": {
        "id": "CJJg9mmkbkJp",
        "colab_type": "text"
      },
      "source": [
        "<font color=\"green\">*To start working on this notebook, or any other notebook that we will use in the Moringa Data Science Course, we will need to save our own copy of it. We can do this by clicking File > Save a Copy in Drive. We will then be able to make edits to our own copy of this notebook.*</font>"
      ]
    },
    {
      "cell_type": "markdown",
      "metadata": {
        "id": "zr4nYa0hTVNa",
        "colab_type": "text"
      },
      "source": [
        "# Python Programming: Hyperparameter Tuning"
      ]
    },
    {
      "cell_type": "markdown",
      "metadata": {
        "id": "BdY9L9p3TYdM",
        "colab_type": "text"
      },
      "source": [
        "## Example "
      ]
    },
    {
      "cell_type": "code",
      "metadata": {
        "id": "oQ23qjHdTR1o",
        "colab_type": "code",
        "colab": {}
      },
      "source": [
        "# Loading libraries\n",
        "import numpy as np\n",
        "import pandas as pd\n",
        "from sklearn import linear_model, datasets\n",
        "from sklearn.model_selection import GridSearchCV\n",
        "import seaborn as sb;"
      ],
      "execution_count": 0,
      "outputs": []
    },
    {
      "cell_type": "code",
      "metadata": {
        "id": "23g_pOAETd-0",
        "colab_type": "code",
        "colab": {}
      },
      "source": [
        "# Loading data\n",
        "iris = datasets.load_iris()\n",
        "X = iris.data\n",
        "y = iris.target"
      ],
      "execution_count": 0,
      "outputs": []
    },
    {
      "cell_type": "code",
      "metadata": {
        "id": "6ssR6UH9TioF",
        "colab_type": "code",
        "colab": {}
      },
      "source": [
        "# Creating the logistic regression\n",
        "logistic = linear_model.LogisticRegression(C=1.0, class_weight=None, dual=False, fit_intercept=True,\n",
        "                   intercept_scaling=1, l1_ratio=None, max_iter=1000,\n",
        "                   multi_class='auto', n_jobs=None, penalty='l2',\n",
        "                   random_state=None, solver='lbfgs', tol=0.0001, verbose=0,\n",
        "                   warm_start=False)"
      ],
      "execution_count": 0,
      "outputs": []
    },
    {
      "cell_type": "code",
      "metadata": {
        "id": "to9HNkYpTl6Q",
        "colab_type": "code",
        "colab": {}
      },
      "source": [
        "# Creating regularization penalty space\n",
        "penalty = ['l2']#l1 not supported\n",
        "\n",
        "# Creating regularization hyperparameter space\n",
        "C = np.logspace(0, 4, 10)\n",
        "\n",
        "# Creating hyperparameter options\n",
        "hyperparameters = dict(C=C, penalty=penalty)"
      ],
      "execution_count": 0,
      "outputs": []
    },
    {
      "cell_type": "code",
      "metadata": {
        "id": "6yjW29NJTyvk",
        "colab_type": "code",
        "colab": {}
      },
      "source": [
        "# Creating grid search using 5-fold cross validation\n",
        "clf = GridSearchCV(logistic, hyperparameters, cv=5, verbose=0)"
      ],
      "execution_count": 0,
      "outputs": []
    },
    {
      "cell_type": "code",
      "metadata": {
        "id": "x8mM5t73T1jp",
        "colab_type": "code",
        "colab": {}
      },
      "source": [
        "# Creating grid search using 5-fold cross validation\n",
        "clf = GridSearchCV(logistic, hyperparameters, cv=5, verbose=0)\n",
        "# Fitting grid search\n",
        "best_model = clf.fit(X, y)"
      ],
      "execution_count": 0,
      "outputs": []
    },
    {
      "cell_type": "code",
      "metadata": {
        "id": "XmsJNimlT4DI",
        "colab_type": "code",
        "outputId": "00769e2a-ed62-494e-f1ae-bc48e1894883",
        "colab": {
          "base_uri": "https://localhost:8080/",
          "height": 51
        }
      },
      "source": [
        "# Viewing best hyperparameters\n",
        "print('Best Penalty:', best_model.best_estimator_.get_params()['penalty'])\n",
        "print('Best C:', best_model.best_estimator_.get_params()['C'])"
      ],
      "execution_count": 0,
      "outputs": [
        {
          "output_type": "stream",
          "text": [
            "Best Penalty: l2\n",
            "Best C: 21.544346900318832\n"
          ],
          "name": "stdout"
        }
      ]
    },
    {
      "cell_type": "code",
      "metadata": {
        "id": "_VEWKlpuT7Up",
        "colab_type": "code",
        "outputId": "5aa79383-f988-441f-9764-9ee566cf0805",
        "colab": {
          "base_uri": "https://localhost:8080/",
          "height": 136
        }
      },
      "source": [
        "# Predicting target vector\n",
        "best_model.predict(X)"
      ],
      "execution_count": 0,
      "outputs": [
        {
          "output_type": "execute_result",
          "data": {
            "text/plain": [
              "array([0, 0, 0, 0, 0, 0, 0, 0, 0, 0, 0, 0, 0, 0, 0, 0, 0, 0, 0, 0, 0, 0,\n",
              "       0, 0, 0, 0, 0, 0, 0, 0, 0, 0, 0, 0, 0, 0, 0, 0, 0, 0, 0, 0, 0, 0,\n",
              "       0, 0, 0, 0, 0, 0, 1, 1, 1, 1, 1, 1, 1, 1, 1, 1, 1, 1, 1, 1, 1, 1,\n",
              "       1, 1, 1, 1, 2, 1, 1, 1, 1, 1, 1, 1, 1, 1, 1, 1, 1, 2, 1, 1, 1, 1,\n",
              "       1, 1, 1, 1, 1, 1, 1, 1, 1, 1, 1, 1, 2, 2, 2, 2, 2, 2, 2, 2, 2, 2,\n",
              "       2, 2, 2, 2, 2, 2, 2, 2, 2, 2, 2, 2, 2, 2, 2, 2, 2, 2, 2, 2, 2, 2,\n",
              "       2, 1, 2, 2, 2, 2, 2, 2, 2, 2, 2, 2, 2, 2, 2, 2, 2, 2])"
            ]
          },
          "metadata": {
            "tags": []
          },
          "execution_count": 20
        }
      ]
    },
    {
      "cell_type": "markdown",
      "metadata": {
        "id": "HE6MLrrUUrJt",
        "colab_type": "text"
      },
      "source": [
        "## <font color=\"green\">Challenge 1</font>"
      ]
    },
    {
      "cell_type": "code",
      "metadata": {
        "id": "I_rcyXCCUw8Z",
        "colab_type": "code",
        "outputId": "1c0a8a16-822f-44eb-bce0-199db1b48427",
        "colab": {
          "base_uri": "https://localhost:8080/",
          "height": 419
        }
      },
      "source": [
        "# Challenge 1\n",
        "# ---\n",
        "# Create a linear logistic regression model to predict the gender. \n",
        "# Perform hyperparameter tuning as well. \n",
        "# ---\n",
        "# Dataset url = http://bit.ly/HeightsWeightsDataset\n",
        "# --\n",
        "heightsweight=pd.read_csv(\"http://bit.ly/HeightsWeightsDataset\")\n",
        "heightsweight"
      ],
      "execution_count": 0,
      "outputs": [
        {
          "output_type": "execute_result",
          "data": {
            "text/html": [
              "<div>\n",
              "<style scoped>\n",
              "    .dataframe tbody tr th:only-of-type {\n",
              "        vertical-align: middle;\n",
              "    }\n",
              "\n",
              "    .dataframe tbody tr th {\n",
              "        vertical-align: top;\n",
              "    }\n",
              "\n",
              "    .dataframe thead th {\n",
              "        text-align: right;\n",
              "    }\n",
              "</style>\n",
              "<table border=\"1\" class=\"dataframe\">\n",
              "  <thead>\n",
              "    <tr style=\"text-align: right;\">\n",
              "      <th></th>\n",
              "      <th>Gender</th>\n",
              "      <th>Height</th>\n",
              "      <th>Weight</th>\n",
              "    </tr>\n",
              "  </thead>\n",
              "  <tbody>\n",
              "    <tr>\n",
              "      <th>0</th>\n",
              "      <td>Male</td>\n",
              "      <td>73.847017</td>\n",
              "      <td>241.893563</td>\n",
              "    </tr>\n",
              "    <tr>\n",
              "      <th>1</th>\n",
              "      <td>Male</td>\n",
              "      <td>68.781904</td>\n",
              "      <td>162.310473</td>\n",
              "    </tr>\n",
              "    <tr>\n",
              "      <th>2</th>\n",
              "      <td>Male</td>\n",
              "      <td>74.110105</td>\n",
              "      <td>212.740856</td>\n",
              "    </tr>\n",
              "    <tr>\n",
              "      <th>3</th>\n",
              "      <td>Male</td>\n",
              "      <td>71.730978</td>\n",
              "      <td>220.042470</td>\n",
              "    </tr>\n",
              "    <tr>\n",
              "      <th>4</th>\n",
              "      <td>Male</td>\n",
              "      <td>69.881796</td>\n",
              "      <td>206.349801</td>\n",
              "    </tr>\n",
              "    <tr>\n",
              "      <th>...</th>\n",
              "      <td>...</td>\n",
              "      <td>...</td>\n",
              "      <td>...</td>\n",
              "    </tr>\n",
              "    <tr>\n",
              "      <th>9995</th>\n",
              "      <td>Female</td>\n",
              "      <td>66.172652</td>\n",
              "      <td>136.777454</td>\n",
              "    </tr>\n",
              "    <tr>\n",
              "      <th>9996</th>\n",
              "      <td>Female</td>\n",
              "      <td>67.067155</td>\n",
              "      <td>170.867906</td>\n",
              "    </tr>\n",
              "    <tr>\n",
              "      <th>9997</th>\n",
              "      <td>Female</td>\n",
              "      <td>63.867992</td>\n",
              "      <td>128.475319</td>\n",
              "    </tr>\n",
              "    <tr>\n",
              "      <th>9998</th>\n",
              "      <td>Female</td>\n",
              "      <td>69.034243</td>\n",
              "      <td>163.852461</td>\n",
              "    </tr>\n",
              "    <tr>\n",
              "      <th>9999</th>\n",
              "      <td>Female</td>\n",
              "      <td>61.944246</td>\n",
              "      <td>113.649103</td>\n",
              "    </tr>\n",
              "  </tbody>\n",
              "</table>\n",
              "<p>10000 rows × 3 columns</p>\n",
              "</div>"
            ],
            "text/plain": [
              "      Gender     Height      Weight\n",
              "0       Male  73.847017  241.893563\n",
              "1       Male  68.781904  162.310473\n",
              "2       Male  74.110105  212.740856\n",
              "3       Male  71.730978  220.042470\n",
              "4       Male  69.881796  206.349801\n",
              "...      ...        ...         ...\n",
              "9995  Female  66.172652  136.777454\n",
              "9996  Female  67.067155  170.867906\n",
              "9997  Female  63.867992  128.475319\n",
              "9998  Female  69.034243  163.852461\n",
              "9999  Female  61.944246  113.649103\n",
              "\n",
              "[10000 rows x 3 columns]"
            ]
          },
          "metadata": {
            "tags": []
          },
          "execution_count": 23
        }
      ]
    },
    {
      "cell_type": "code",
      "metadata": {
        "id": "LbgIfr9HLIDq",
        "colab_type": "code",
        "outputId": "f06e3ef7-3adf-4a7a-d62e-b8fe2023180d",
        "colab": {
          "base_uri": "https://localhost:8080/",
          "height": 85
        }
      },
      "source": [
        "#confirming the number of unique values in every column\n",
        "heightsweight.nunique()"
      ],
      "execution_count": 0,
      "outputs": [
        {
          "output_type": "execute_result",
          "data": {
            "text/plain": [
              "Gender        2\n",
              "Height    10000\n",
              "Weight    10000\n",
              "dtype: int64"
            ]
          },
          "metadata": {
            "tags": []
          },
          "execution_count": 24
        }
      ]
    },
    {
      "cell_type": "code",
      "metadata": {
        "id": "9ZmLO4IWLQoW",
        "colab_type": "code",
        "outputId": "b91e0e65-aef6-429c-a0f9-4a5066517e2d",
        "colab": {
          "base_uri": "https://localhost:8080/",
          "height": 85
        }
      },
      "source": [
        "heightsweight.isnull().sum()"
      ],
      "execution_count": 0,
      "outputs": [
        {
          "output_type": "execute_result",
          "data": {
            "text/plain": [
              "Gender    0\n",
              "Height    0\n",
              "Weight    0\n",
              "dtype: int64"
            ]
          },
          "metadata": {
            "tags": []
          },
          "execution_count": 25
        }
      ]
    },
    {
      "cell_type": "code",
      "metadata": {
        "id": "vuqN76L9Lxx4",
        "colab_type": "code",
        "outputId": "7416ad44-f987-4b7a-a489-4231ec3bfd4d",
        "colab": {
          "base_uri": "https://localhost:8080/",
          "height": 204
        }
      },
      "source": [
        "#create dummy variables for gender\n",
        "gender = pd.get_dummies(heightsweight['Gender'],drop_first=True)\n",
        "#previewing the top \n",
        "gender.head()"
      ],
      "execution_count": 0,
      "outputs": [
        {
          "output_type": "execute_result",
          "data": {
            "text/html": [
              "<div>\n",
              "<style scoped>\n",
              "    .dataframe tbody tr th:only-of-type {\n",
              "        vertical-align: middle;\n",
              "    }\n",
              "\n",
              "    .dataframe tbody tr th {\n",
              "        vertical-align: top;\n",
              "    }\n",
              "\n",
              "    .dataframe thead th {\n",
              "        text-align: right;\n",
              "    }\n",
              "</style>\n",
              "<table border=\"1\" class=\"dataframe\">\n",
              "  <thead>\n",
              "    <tr style=\"text-align: right;\">\n",
              "      <th></th>\n",
              "      <th>Male</th>\n",
              "    </tr>\n",
              "  </thead>\n",
              "  <tbody>\n",
              "    <tr>\n",
              "      <th>0</th>\n",
              "      <td>1</td>\n",
              "    </tr>\n",
              "    <tr>\n",
              "      <th>1</th>\n",
              "      <td>1</td>\n",
              "    </tr>\n",
              "    <tr>\n",
              "      <th>2</th>\n",
              "      <td>1</td>\n",
              "    </tr>\n",
              "    <tr>\n",
              "      <th>3</th>\n",
              "      <td>1</td>\n",
              "    </tr>\n",
              "    <tr>\n",
              "      <th>4</th>\n",
              "      <td>1</td>\n",
              "    </tr>\n",
              "  </tbody>\n",
              "</table>\n",
              "</div>"
            ],
            "text/plain": [
              "   Male\n",
              "0     1\n",
              "1     1\n",
              "2     1\n",
              "3     1\n",
              "4     1"
            ]
          },
          "metadata": {
            "tags": []
          },
          "execution_count": 26
        }
      ]
    },
    {
      "cell_type": "code",
      "metadata": {
        "id": "oGkgHLo_N_Iw",
        "colab_type": "code",
        "outputId": "2d174cf6-ad4f-4cdb-caa5-2943d9880dd5",
        "colab": {
          "base_uri": "https://localhost:8080/",
          "height": 204
        }
      },
      "source": [
        "#creating a duplicate column\n",
        "gender['gender']=gender['Male']\n",
        "#dropping the initial column\n",
        "gender=gender.drop(['Male'],axis=1)\n",
        "#previewing the top\n",
        "gender.head()"
      ],
      "execution_count": 0,
      "outputs": [
        {
          "output_type": "execute_result",
          "data": {
            "text/html": [
              "<div>\n",
              "<style scoped>\n",
              "    .dataframe tbody tr th:only-of-type {\n",
              "        vertical-align: middle;\n",
              "    }\n",
              "\n",
              "    .dataframe tbody tr th {\n",
              "        vertical-align: top;\n",
              "    }\n",
              "\n",
              "    .dataframe thead th {\n",
              "        text-align: right;\n",
              "    }\n",
              "</style>\n",
              "<table border=\"1\" class=\"dataframe\">\n",
              "  <thead>\n",
              "    <tr style=\"text-align: right;\">\n",
              "      <th></th>\n",
              "      <th>gender</th>\n",
              "    </tr>\n",
              "  </thead>\n",
              "  <tbody>\n",
              "    <tr>\n",
              "      <th>0</th>\n",
              "      <td>1</td>\n",
              "    </tr>\n",
              "    <tr>\n",
              "      <th>1</th>\n",
              "      <td>1</td>\n",
              "    </tr>\n",
              "    <tr>\n",
              "      <th>2</th>\n",
              "      <td>1</td>\n",
              "    </tr>\n",
              "    <tr>\n",
              "      <th>3</th>\n",
              "      <td>1</td>\n",
              "    </tr>\n",
              "    <tr>\n",
              "      <th>4</th>\n",
              "      <td>1</td>\n",
              "    </tr>\n",
              "  </tbody>\n",
              "</table>\n",
              "</div>"
            ],
            "text/plain": [
              "   gender\n",
              "0       1\n",
              "1       1\n",
              "2       1\n",
              "3       1\n",
              "4       1"
            ]
          },
          "metadata": {
            "tags": []
          },
          "execution_count": 32
        }
      ]
    },
    {
      "cell_type": "code",
      "metadata": {
        "id": "9o7tP4ICPZEh",
        "colab_type": "code",
        "outputId": "11ba8568-acc4-4072-f8c0-299a0bef1fef",
        "colab": {
          "base_uri": "https://localhost:8080/",
          "height": 204
        }
      },
      "source": [
        "#previewing the bottom\n",
        "gender.tail()"
      ],
      "execution_count": 0,
      "outputs": [
        {
          "output_type": "execute_result",
          "data": {
            "text/html": [
              "<div>\n",
              "<style scoped>\n",
              "    .dataframe tbody tr th:only-of-type {\n",
              "        vertical-align: middle;\n",
              "    }\n",
              "\n",
              "    .dataframe tbody tr th {\n",
              "        vertical-align: top;\n",
              "    }\n",
              "\n",
              "    .dataframe thead th {\n",
              "        text-align: right;\n",
              "    }\n",
              "</style>\n",
              "<table border=\"1\" class=\"dataframe\">\n",
              "  <thead>\n",
              "    <tr style=\"text-align: right;\">\n",
              "      <th></th>\n",
              "      <th>gender</th>\n",
              "    </tr>\n",
              "  </thead>\n",
              "  <tbody>\n",
              "    <tr>\n",
              "      <th>9995</th>\n",
              "      <td>0</td>\n",
              "    </tr>\n",
              "    <tr>\n",
              "      <th>9996</th>\n",
              "      <td>0</td>\n",
              "    </tr>\n",
              "    <tr>\n",
              "      <th>9997</th>\n",
              "      <td>0</td>\n",
              "    </tr>\n",
              "    <tr>\n",
              "      <th>9998</th>\n",
              "      <td>0</td>\n",
              "    </tr>\n",
              "    <tr>\n",
              "      <th>9999</th>\n",
              "      <td>0</td>\n",
              "    </tr>\n",
              "  </tbody>\n",
              "</table>\n",
              "</div>"
            ],
            "text/plain": [
              "      gender\n",
              "9995       0\n",
              "9996       0\n",
              "9997       0\n",
              "9998       0\n",
              "9999       0"
            ]
          },
          "metadata": {
            "tags": []
          },
          "execution_count": 33
        }
      ]
    },
    {
      "cell_type": "code",
      "metadata": {
        "id": "4qzdScaJNPHT",
        "colab_type": "code",
        "outputId": "c13ffad4-d624-4f7e-d40b-4e9250c9ae8c",
        "colab": {
          "base_uri": "https://localhost:8080/",
          "height": 204
        }
      },
      "source": [
        "\n",
        "#dropping the Gender with text data\n",
        "heightsweight.drop(['Gender'],axis=1,inplace=True)\n",
        "#previewing the top\n",
        "heightsweight.head() "
      ],
      "execution_count": 0,
      "outputs": [
        {
          "output_type": "execute_result",
          "data": {
            "text/html": [
              "<div>\n",
              "<style scoped>\n",
              "    .dataframe tbody tr th:only-of-type {\n",
              "        vertical-align: middle;\n",
              "    }\n",
              "\n",
              "    .dataframe tbody tr th {\n",
              "        vertical-align: top;\n",
              "    }\n",
              "\n",
              "    .dataframe thead th {\n",
              "        text-align: right;\n",
              "    }\n",
              "</style>\n",
              "<table border=\"1\" class=\"dataframe\">\n",
              "  <thead>\n",
              "    <tr style=\"text-align: right;\">\n",
              "      <th></th>\n",
              "      <th>Height</th>\n",
              "      <th>Weight</th>\n",
              "    </tr>\n",
              "  </thead>\n",
              "  <tbody>\n",
              "    <tr>\n",
              "      <th>0</th>\n",
              "      <td>73.847017</td>\n",
              "      <td>241.893563</td>\n",
              "    </tr>\n",
              "    <tr>\n",
              "      <th>1</th>\n",
              "      <td>68.781904</td>\n",
              "      <td>162.310473</td>\n",
              "    </tr>\n",
              "    <tr>\n",
              "      <th>2</th>\n",
              "      <td>74.110105</td>\n",
              "      <td>212.740856</td>\n",
              "    </tr>\n",
              "    <tr>\n",
              "      <th>3</th>\n",
              "      <td>71.730978</td>\n",
              "      <td>220.042470</td>\n",
              "    </tr>\n",
              "    <tr>\n",
              "      <th>4</th>\n",
              "      <td>69.881796</td>\n",
              "      <td>206.349801</td>\n",
              "    </tr>\n",
              "  </tbody>\n",
              "</table>\n",
              "</div>"
            ],
            "text/plain": [
              "      Height      Weight\n",
              "0  73.847017  241.893563\n",
              "1  68.781904  162.310473\n",
              "2  74.110105  212.740856\n",
              "3  71.730978  220.042470\n",
              "4  69.881796  206.349801"
            ]
          },
          "metadata": {
            "tags": []
          },
          "execution_count": 34
        }
      ]
    },
    {
      "cell_type": "code",
      "metadata": {
        "id": "1_GgsOVwNR3t",
        "colab_type": "code",
        "colab": {}
      },
      "source": [
        "#combining the two datasets\n",
        "heightsweight_data = pd.concat([heightsweight,gender],axis=1) "
      ],
      "execution_count": 0,
      "outputs": []
    },
    {
      "cell_type": "code",
      "metadata": {
        "id": "HLatLlgEP0jJ",
        "colab_type": "code",
        "outputId": "b40dde30-22b3-4910-d59e-7d49a8f49671",
        "colab": {
          "base_uri": "https://localhost:8080/",
          "height": 204
        }
      },
      "source": [
        "#previewing the top\n",
        "heightsweight_data.head()"
      ],
      "execution_count": 0,
      "outputs": [
        {
          "output_type": "execute_result",
          "data": {
            "text/html": [
              "<div>\n",
              "<style scoped>\n",
              "    .dataframe tbody tr th:only-of-type {\n",
              "        vertical-align: middle;\n",
              "    }\n",
              "\n",
              "    .dataframe tbody tr th {\n",
              "        vertical-align: top;\n",
              "    }\n",
              "\n",
              "    .dataframe thead th {\n",
              "        text-align: right;\n",
              "    }\n",
              "</style>\n",
              "<table border=\"1\" class=\"dataframe\">\n",
              "  <thead>\n",
              "    <tr style=\"text-align: right;\">\n",
              "      <th></th>\n",
              "      <th>Height</th>\n",
              "      <th>Weight</th>\n",
              "      <th>gender</th>\n",
              "    </tr>\n",
              "  </thead>\n",
              "  <tbody>\n",
              "    <tr>\n",
              "      <th>0</th>\n",
              "      <td>73.847017</td>\n",
              "      <td>241.893563</td>\n",
              "      <td>1</td>\n",
              "    </tr>\n",
              "    <tr>\n",
              "      <th>1</th>\n",
              "      <td>68.781904</td>\n",
              "      <td>162.310473</td>\n",
              "      <td>1</td>\n",
              "    </tr>\n",
              "    <tr>\n",
              "      <th>2</th>\n",
              "      <td>74.110105</td>\n",
              "      <td>212.740856</td>\n",
              "      <td>1</td>\n",
              "    </tr>\n",
              "    <tr>\n",
              "      <th>3</th>\n",
              "      <td>71.730978</td>\n",
              "      <td>220.042470</td>\n",
              "      <td>1</td>\n",
              "    </tr>\n",
              "    <tr>\n",
              "      <th>4</th>\n",
              "      <td>69.881796</td>\n",
              "      <td>206.349801</td>\n",
              "      <td>1</td>\n",
              "    </tr>\n",
              "  </tbody>\n",
              "</table>\n",
              "</div>"
            ],
            "text/plain": [
              "      Height      Weight  gender\n",
              "0  73.847017  241.893563       1\n",
              "1  68.781904  162.310473       1\n",
              "2  74.110105  212.740856       1\n",
              "3  71.730978  220.042470       1\n",
              "4  69.881796  206.349801       1"
            ]
          },
          "metadata": {
            "tags": []
          },
          "execution_count": 36
        }
      ]
    },
    {
      "cell_type": "code",
      "metadata": {
        "id": "2usLt6cbP35-",
        "colab_type": "code",
        "outputId": "66f086a8-f996-4332-cddc-37ba1653836b",
        "colab": {
          "base_uri": "https://localhost:8080/",
          "height": 286
        }
      },
      "source": [
        "\n",
        "# Checking for independence between features¶\n",
        "sb.heatmap(heightsweight_data.corr())"
      ],
      "execution_count": 0,
      "outputs": [
        {
          "output_type": "execute_result",
          "data": {
            "text/plain": [
              "<matplotlib.axes._subplots.AxesSubplot at 0x7fdefe5ce550>"
            ]
          },
          "metadata": {
            "tags": []
          },
          "execution_count": 40
        },
        {
          "output_type": "display_data",
          "data": {
            "image/png": "[encoded data removed]",
            "text/plain": [
              "<Figure size 432x288 with 2 Axes>"
            ]
          },
          "metadata": {
            "tags": [],
            "needs_background": "light"
          }
        }
      ]
    },
    {
      "cell_type": "code",
      "metadata": {
        "id": "Dpl3U_OnP4sB",
        "colab_type": "code",
        "outputId": "f34e8256-ecfa-4c54-a187-b2862f23dc48",
        "colab": {
          "base_uri": "https://localhost:8080/",
          "height": 34
        }
      },
      "source": [
        "#selecting the dependent and independent variables\n",
        "#independent variables \n",
        "X=heightsweight_data.drop('gender',axis=1)\n",
        "#dependent variables\n",
        "y=heightsweight_data['gender']\n",
        "print(\"The shape of X is:\",{X.shape},\"and the shape of y is:\",{y.shape})"
      ],
      "execution_count": 0,
      "outputs": [
        {
          "output_type": "stream",
          "text": [
            "The shape of X is: {(10000, 2)} and the shape of y is: {(10000,)}\n"
          ],
          "name": "stdout"
        }
      ]
    },
    {
      "cell_type": "code",
      "metadata": {
        "id": "wSPu-fNIP34s",
        "colab_type": "code",
        "colab": {}
      },
      "source": [
        "# Creating the logistic regression\n",
        "logistic = linear_model.LogisticRegression(C=1.0, class_weight=None, dual=False, fit_intercept=True,\n",
        "                   intercept_scaling=1, l1_ratio=None, max_iter=1000,\n",
        "                   multi_class='auto', n_jobs=None, penalty='l2',\n",
        "                   random_state=None, solver='lbfgs', tol=0.0001, verbose=0,\n",
        "                   warm_start=False)"
      ],
      "execution_count": 0,
      "outputs": []
    },
    {
      "cell_type": "code",
      "metadata": {
        "id": "3yxxL16GSeOn",
        "colab_type": "code",
        "colab": {}
      },
      "source": [
        "# Creating regularization penalty space\n",
        "penalty = ['l2']#l1 not supported\n",
        "\n",
        "# Creating regularization hyperparameter space\n",
        "C = np.logspace(0, 4, 10)\n",
        "\n",
        "# Creating hyperparameter options\n",
        "hyperparameters = dict(C=C, penalty=penalty)"
      ],
      "execution_count": 0,
      "outputs": []
    },
    {
      "cell_type": "code",
      "metadata": {
        "id": "WxfnAyWdS_WZ",
        "colab_type": "code",
        "colab": {}
      },
      "source": [
        "# Creating grid search using 5-fold cross validation\n",
        "clf = GridSearchCV(logistic, hyperparameters, cv=5, verbose=0)"
      ],
      "execution_count": 0,
      "outputs": []
    },
    {
      "cell_type": "code",
      "metadata": {
        "id": "RYFw8_DGTCic",
        "colab_type": "code",
        "colab": {}
      },
      "source": [
        "# Fitting grid search\n",
        "best_model = clf.fit(X, y)"
      ],
      "execution_count": 0,
      "outputs": []
    },
    {
      "cell_type": "code",
      "metadata": {
        "id": "w_ndreEtTG1f",
        "colab_type": "code",
        "outputId": "79e4e786-6dd5-4fd6-9dd4-9b9e1bc97249",
        "colab": {
          "base_uri": "https://localhost:8080/",
          "height": 51
        }
      },
      "source": [
        "# Viewing best hyperparameters\n",
        "print('Best Penalty:', best_model.best_estimator_.get_params()['penalty'])\n",
        "print('Best C:', best_model.best_estimator_.get_params()['C'])"
      ],
      "execution_count": 0,
      "outputs": [
        {
          "output_type": "stream",
          "text": [
            "Best Penalty: l2\n",
            "Best C: 1.0\n"
          ],
          "name": "stdout"
        }
      ]
    },
    {
      "cell_type": "code",
      "metadata": {
        "id": "qpc1pguLTLHT",
        "colab_type": "code",
        "outputId": "353ac9de-04d9-4d18-b57d-ab7e04a0ea6e",
        "colab": {
          "base_uri": "https://localhost:8080/",
          "height": 34
        }
      },
      "source": [
        "# Predicting target vector\n",
        "best_model.predict(X)"
      ],
      "execution_count": 0,
      "outputs": [
        {
          "output_type": "execute_result",
          "data": {
            "text/plain": [
              "array([1, 0, 1, ..., 0, 0, 0], dtype=uint8)"
            ]
          },
          "metadata": {
            "tags": []
          },
          "execution_count": 48
        }
      ]
    },
    {
      "cell_type": "markdown",
      "metadata": {
        "id": "pCFuZXSBU8RB",
        "colab_type": "text"
      },
      "source": [
        "## <font color=\"green\">Challenge 2</font>"
      ]
    },
    {
      "cell_type": "code",
      "metadata": {
        "id": "-4mnVf7jU7LX",
        "colab_type": "code",
        "colab": {}
      },
      "source": [
        "# Challenge 2\n",
        "# ---\n",
        "# Use the breast cancer dataset to create a logistic regression machine learning model.\n",
        "# To improve the accuracy of the model, perform hyperparameter tuning.\n",
        "# ---\n",
        "# Dataset source = http://bit.ly/LRBreastCancerDataset\n",
        "# ---\n",
        "# \n",
        "#BreastCancer=pd.read_csv('http://bit.ly/LRBreastCancerDataset')"
      ],
      "execution_count": 0,
      "outputs": []
    },
    {
      "cell_type": "markdown",
      "metadata": {
        "id": "KdS5KHvgU_kg",
        "colab_type": "text"
      },
      "source": [
        "## <font color=\"green\">Challenge 3</font>"
      ]
    },
    {
      "cell_type": "code",
      "metadata": {
        "id": "J-YtpYLYVFmZ",
        "colab_type": "code",
        "outputId": "96deca15-d998-4459-e104-6a061a7c28ac",
        "colab": {
          "base_uri": "https://localhost:8080/",
          "height": 204
        }
      },
      "source": [
        "# Challenge 3\n",
        "# ---\n",
        "# Build a regression model to determine whether a patient has diabetes or not.\n",
        "# To improve the accuracy of the model, perform hyperparameter tuning.\n",
        "# ---\n",
        "# Dataset source = https://bit.ly/Diabetes_dataset\n",
        "# ---\n",
        "#\n",
        "Diabetes=pd.read_csv('diabetes2.csv')\n",
        "Diabetes.head()"
      ],
      "execution_count": 0,
      "outputs": [
        {
          "output_type": "execute_result",
          "data": {
            "text/html": [
              "<div>\n",
              "<style scoped>\n",
              "    .dataframe tbody tr th:only-of-type {\n",
              "        vertical-align: middle;\n",
              "    }\n",
              "\n",
              "    .dataframe tbody tr th {\n",
              "        vertical-align: top;\n",
              "    }\n",
              "\n",
              "    .dataframe thead th {\n",
              "        text-align: right;\n",
              "    }\n",
              "</style>\n",
              "<table border=\"1\" class=\"dataframe\">\n",
              "  <thead>\n",
              "    <tr style=\"text-align: right;\">\n",
              "      <th></th>\n",
              "      <th>Pregnancies</th>\n",
              "      <th>Glucose</th>\n",
              "      <th>BloodPressure</th>\n",
              "      <th>SkinThickness</th>\n",
              "      <th>Insulin</th>\n",
              "      <th>BMI</th>\n",
              "      <th>DiabetesPedigreeFunction</th>\n",
              "      <th>Age</th>\n",
              "      <th>Outcome</th>\n",
              "    </tr>\n",
              "  </thead>\n",
              "  <tbody>\n",
              "    <tr>\n",
              "      <th>0</th>\n",
              "      <td>6</td>\n",
              "      <td>148</td>\n",
              "      <td>72</td>\n",
              "      <td>35</td>\n",
              "      <td>0</td>\n",
              "      <td>33.6</td>\n",
              "      <td>0.627</td>\n",
              "      <td>50</td>\n",
              "      <td>1</td>\n",
              "    </tr>\n",
              "    <tr>\n",
              "      <th>1</th>\n",
              "      <td>1</td>\n",
              "      <td>85</td>\n",
              "      <td>66</td>\n",
              "      <td>29</td>\n",
              "      <td>0</td>\n",
              "      <td>26.6</td>\n",
              "      <td>0.351</td>\n",
              "      <td>31</td>\n",
              "      <td>0</td>\n",
              "    </tr>\n",
              "    <tr>\n",
              "      <th>2</th>\n",
              "      <td>8</td>\n",
              "      <td>183</td>\n",
              "      <td>64</td>\n",
              "      <td>0</td>\n",
              "      <td>0</td>\n",
              "      <td>23.3</td>\n",
              "      <td>0.672</td>\n",
              "      <td>32</td>\n",
              "      <td>1</td>\n",
              "    </tr>\n",
              "    <tr>\n",
              "      <th>3</th>\n",
              "      <td>1</td>\n",
              "      <td>89</td>\n",
              "      <td>66</td>\n",
              "      <td>23</td>\n",
              "      <td>94</td>\n",
              "      <td>28.1</td>\n",
              "      <td>0.167</td>\n",
              "      <td>21</td>\n",
              "      <td>0</td>\n",
              "    </tr>\n",
              "    <tr>\n",
              "      <th>4</th>\n",
              "      <td>0</td>\n",
              "      <td>137</td>\n",
              "      <td>40</td>\n",
              "      <td>35</td>\n",
              "      <td>168</td>\n",
              "      <td>43.1</td>\n",
              "      <td>2.288</td>\n",
              "      <td>33</td>\n",
              "      <td>1</td>\n",
              "    </tr>\n",
              "  </tbody>\n",
              "</table>\n",
              "</div>"
            ],
            "text/plain": [
              "   Pregnancies  Glucose  BloodPressure  ...  DiabetesPedigreeFunction  Age  Outcome\n",
              "0            6      148             72  ...                     0.627   50        1\n",
              "1            1       85             66  ...                     0.351   31        0\n",
              "2            8      183             64  ...                     0.672   32        1\n",
              "3            1       89             66  ...                     0.167   21        0\n",
              "4            0      137             40  ...                     2.288   33        1\n",
              "\n",
              "[5 rows x 9 columns]"
            ]
          },
          "metadata": {
            "tags": []
          },
          "execution_count": 55
        }
      ]
    },
    {
      "cell_type": "code",
      "metadata": {
        "id": "goTUrIPdX5cv",
        "colab_type": "code",
        "outputId": "4d5e3db4-6191-4341-d3cd-2ceaa87e44c4",
        "colab": {
          "base_uri": "https://localhost:8080/",
          "height": 34
        }
      },
      "source": [
        "Diabetes.shape"
      ],
      "execution_count": 0,
      "outputs": [
        {
          "output_type": "execute_result",
          "data": {
            "text/plain": [
              "(768, 9)"
            ]
          },
          "metadata": {
            "tags": []
          },
          "execution_count": 58
        }
      ]
    },
    {
      "cell_type": "code",
      "metadata": {
        "id": "xmIXFLhXXl0Z",
        "colab_type": "code",
        "outputId": "21b5e526-a288-4b49-82c7-e74ada75db27",
        "colab": {
          "base_uri": "https://localhost:8080/",
          "height": 187
        }
      },
      "source": [
        "Diabetes.dtypes"
      ],
      "execution_count": 0,
      "outputs": [
        {
          "output_type": "execute_result",
          "data": {
            "text/plain": [
              "Pregnancies                   int64\n",
              "Glucose                       int64\n",
              "BloodPressure                 int64\n",
              "SkinThickness                 int64\n",
              "Insulin                       int64\n",
              "BMI                         float64\n",
              "DiabetesPedigreeFunction    float64\n",
              "Age                           int64\n",
              "Outcome                       int64\n",
              "dtype: object"
            ]
          },
          "metadata": {
            "tags": []
          },
          "execution_count": 56
        }
      ]
    },
    {
      "cell_type": "code",
      "metadata": {
        "id": "5UOPPxudXsdt",
        "colab_type": "code",
        "outputId": "deae2c76-9599-442f-8738-5dc230a4b2e4",
        "colab": {
          "base_uri": "https://localhost:8080/",
          "height": 187
        }
      },
      "source": [
        "Diabetes.nunique()"
      ],
      "execution_count": 0,
      "outputs": [
        {
          "output_type": "execute_result",
          "data": {
            "text/plain": [
              "Pregnancies                  17\n",
              "Glucose                     136\n",
              "BloodPressure                47\n",
              "SkinThickness                51\n",
              "Insulin                     186\n",
              "BMI                         248\n",
              "DiabetesPedigreeFunction    517\n",
              "Age                          52\n",
              "Outcome                       2\n",
              "dtype: int64"
            ]
          },
          "metadata": {
            "tags": []
          },
          "execution_count": 57
        }
      ]
    },
    {
      "cell_type": "code",
      "metadata": {
        "id": "NUhSb6dZqRyB",
        "colab_type": "code",
        "outputId": "052b439b-1a7a-4404-8308-8f28a5a45426",
        "colab": {
          "base_uri": "https://localhost:8080/",
          "height": 296
        }
      },
      "source": [
        "#To make sure that it's a binary variable, let's use Seaborn's countplot() function.\n",
        "# \n",
        "sb.countplot(x='Outcome',data=Diabetes, palette='hls')"
      ],
      "execution_count": 0,
      "outputs": [
        {
          "output_type": "execute_result",
          "data": {
            "text/plain": [
              "<matplotlib.axes._subplots.AxesSubplot at 0x7fdef89bcdd8>"
            ]
          },
          "metadata": {
            "tags": []
          },
          "execution_count": 62
        },
        {
          "output_type": "display_data",
          "data": {
            "image/png": "[encoded data removed]",
            "text/plain": [
              "<Figure size 432x288 with 1 Axes>"
            ]
          },
          "metadata": {
            "tags": [],
            "needs_background": "light"
          }
        }
      ]
    },
    {
      "cell_type": "code",
      "metadata": {
        "id": "8SZ3GzBUqnKr",
        "colab_type": "code",
        "outputId": "cecb1834-5c40-4951-c1ae-b0bb788d4140",
        "colab": {
          "base_uri": "https://localhost:8080/",
          "height": 407
        }
      },
      "source": [
        "# Checking for independence between features¶\n",
        "sb.heatmap(Diabetes.corr())"
      ],
      "execution_count": 0,
      "outputs": [
        {
          "output_type": "execute_result",
          "data": {
            "text/plain": [
              "<matplotlib.axes._subplots.AxesSubplot at 0x7fdef8b361d0>"
            ]
          },
          "metadata": {
            "tags": []
          },
          "execution_count": 61
        },
        {
          "output_type": "display_data",
          "data": {
            "image/png": "[encoded data removed]",
            "text/plain": [
              "<Figure size 432x288 with 2 Axes>"
            ]
          },
          "metadata": {
            "tags": [],
            "needs_background": "light"
          }
        }
      ]
    },
    {
      "cell_type": "code",
      "metadata": {
        "id": "MnlkSSWyysWM",
        "colab_type": "code",
        "outputId": "d64d0733-7b52-4053-e068-5a19171fd359",
        "colab": {
          "base_uri": "https://localhost:8080/",
          "height": 34
        }
      },
      "source": [
        "#selecting the dependent and independent variables\n",
        "#independent variables \n",
        "X=Diabetes.drop('Outcome',axis=1)\n",
        "#dependent variables\n",
        "y=Diabetes['Outcome']\n",
        "print(\"The shape of X is:\",{X.shape},\"and the shape of y is:\",{y.shape})"
      ],
      "execution_count": 0,
      "outputs": [
        {
          "output_type": "stream",
          "text": [
            "The shape of X is: {(768, 8)} and the shape of y is: {(768,)}\n"
          ],
          "name": "stdout"
        }
      ]
    },
    {
      "cell_type": "code",
      "metadata": {
        "id": "XAFxF2sL1FvO",
        "colab_type": "code",
        "colab": {}
      },
      "source": [
        "#library for spliting data\n",
        "from sklearn.model_selection import train_test_split\n",
        "#specifying X, Y test and train data sizes\n",
        "X_train, X_test, y_train, y_test = train_test_split(X, y, test_size = .3, random_state=25)"
      ],
      "execution_count": 0,
      "outputs": []
    },
    {
      "cell_type": "code",
      "metadata": {
        "id": "6DtWnVxrytKY",
        "colab_type": "code",
        "colab": {}
      },
      "source": [
        "# Creating the logistic regression\n",
        "logistic = linear_model.LogisticRegression(C=1.0, class_weight=None, dual=False, fit_intercept=True,\n",
        "                   intercept_scaling=1, l1_ratio=None, max_iter=1000,\n",
        "                   multi_class='auto', n_jobs=None, penalty='l2',\n",
        "                   random_state=None, solver='lbfgs', tol=0.0001, verbose=0,\n",
        "                   warm_start=False)"
      ],
      "execution_count": 0,
      "outputs": []
    },
    {
      "cell_type": "code",
      "metadata": {
        "id": "gHbmt64lytYC",
        "colab_type": "code",
        "colab": {}
      },
      "source": [
        "# Creating regularization penalty space\n",
        "penalty = ['l2']#l1 not supported\n",
        "\n",
        "# Creating regularization hyperparameter space\n",
        "C = np.logspace(0, 4, 10)\n",
        "\n",
        "# Creating hyperparameter options\n",
        "hyperparameters = dict(C=C, penalty=penalty)"
      ],
      "execution_count": 0,
      "outputs": []
    },
    {
      "cell_type": "code",
      "metadata": {
        "id": "g9iEvZMozdXk",
        "colab_type": "code",
        "colab": {}
      },
      "source": [
        "# Creating grid search using 5-fold cross validation\n",
        "clf = GridSearchCV(logistic, hyperparameters, cv=5, verbose=0)"
      ],
      "execution_count": 0,
      "outputs": []
    },
    {
      "cell_type": "code",
      "metadata": {
        "id": "72X0ZtJ8zdnZ",
        "colab_type": "code",
        "colab": {}
      },
      "source": [
        "# Fitting grid search\n",
        "best_model = clf.fit(X, y)"
      ],
      "execution_count": 0,
      "outputs": []
    },
    {
      "cell_type": "code",
      "metadata": {
        "id": "RAXEcb9LzdVO",
        "colab_type": "code",
        "outputId": "bf35cad4-2f94-4e2f-9025-33f58e181c14",
        "colab": {
          "base_uri": "https://localhost:8080/",
          "height": 51
        }
      },
      "source": [
        "# Viewing best hyperparameters\n",
        "print('Best Penalty:', best_model.best_estimator_.get_params()['penalty'])\n",
        "print('Best C:', best_model.best_estimator_.get_params()['C'])"
      ],
      "execution_count": 0,
      "outputs": [
        {
          "output_type": "stream",
          "text": [
            "Best Penalty: l2\n",
            "Best C: 1.0\n"
          ],
          "name": "stdout"
        }
      ]
    },
    {
      "cell_type": "code",
      "metadata": {
        "id": "bvvLuum3z2DS",
        "colab_type": "code",
        "outputId": "eaaca40f-c21d-4f81-fb54-919e7467f3b0",
        "colab": {
          "base_uri": "https://localhost:8080/",
          "height": 612
        }
      },
      "source": [
        "# Predicting target vector\n",
        "best_model.predict(X)"
      ],
      "execution_count": 0,
      "outputs": [
        {
          "output_type": "execute_result",
          "data": {
            "text/plain": [
              "array([1, 0, 1, 0, 1, 0, 0, 1, 1, 0, 0, 1, 1, 1, 1, 0, 0, 0, 0, 0, 0, 0,\n",
              "       1, 0, 1, 0, 1, 0, 1, 0, 0, 1, 0, 0, 0, 0, 1, 0, 0, 1, 1, 1, 0, 1,\n",
              "       1, 1, 0, 0, 0, 0, 0, 0, 0, 1, 1, 0, 1, 0, 1, 0, 0, 1, 0, 0, 0, 0,\n",
              "       0, 0, 0, 0, 0, 0, 1, 0, 0, 0, 0, 0, 1, 0, 0, 0, 0, 0, 1, 0, 1, 0,\n",
              "       1, 0, 0, 0, 0, 0, 0, 1, 0, 0, 0, 0, 1, 0, 0, 0, 0, 0, 0, 0, 0, 0,\n",
              "       1, 1, 0, 0, 1, 1, 0, 0, 0, 0, 1, 0, 0, 0, 0, 1, 0, 0, 0, 0, 1, 1,\n",
              "       1, 0, 0, 0, 0, 0, 0, 0, 0, 0, 0, 0, 0, 0, 0, 0, 1, 0, 0, 0, 1, 1,\n",
              "       1, 1, 0, 0, 0, 1, 0, 0, 0, 0, 0, 0, 0, 0, 0, 0, 0, 1, 0, 0, 0, 1,\n",
              "       0, 1, 1, 1, 0, 0, 0, 0, 0, 1, 1, 0, 0, 0, 0, 0, 1, 1, 0, 1, 0, 0,\n",
              "       0, 0, 0, 0, 0, 0, 0, 0, 1, 1, 0, 1, 0, 1, 1, 1, 0, 1, 0, 0, 0, 0,\n",
              "       1, 1, 0, 1, 0, 0, 0, 1, 1, 0, 1, 1, 0, 0, 0, 1, 1, 1, 1, 0, 0, 0,\n",
              "       0, 0, 0, 1, 0, 1, 0, 0, 0, 0, 0, 0, 0, 0, 0, 0, 1, 1, 1, 1, 0, 0,\n",
              "       0, 0, 1, 1, 0, 1, 1, 0, 0, 0, 1, 0, 0, 0, 0, 0, 0, 1, 0, 1, 0, 0,\n",
              "       1, 0, 0, 0, 0, 0, 1, 0, 0, 1, 0, 0, 0, 0, 1, 0, 0, 1, 0, 0, 1, 0,\n",
              "       0, 0, 0, 0, 0, 0, 1, 0, 0, 1, 0, 1, 0, 0, 0, 1, 0, 0, 0, 1, 0, 0,\n",
              "       0, 0, 1, 0, 0, 1, 1, 0, 1, 1, 0, 0, 0, 0, 0, 1, 0, 0, 0, 0, 0, 0,\n",
              "       0, 0, 0, 1, 0, 1, 0, 1, 1, 1, 0, 1, 0, 0, 0, 0, 0, 0, 1, 0, 0, 0,\n",
              "       0, 1, 0, 0, 1, 0, 0, 0, 0, 0, 0, 0, 0, 0, 1, 0, 0, 1, 0, 0, 1, 0,\n",
              "       0, 0, 0, 1, 0, 0, 0, 0, 1, 1, 0, 0, 1, 1, 0, 0, 1, 0, 0, 1, 0, 1,\n",
              "       0, 0, 0, 0, 0, 0, 1, 1, 0, 1, 0, 0, 0, 0, 0, 0, 0, 1, 1, 0, 0, 0,\n",
              "       1, 0, 0, 0, 0, 1, 0, 0, 0, 0, 0, 0, 0, 0, 0, 1, 0, 0, 1, 1, 0, 0,\n",
              "       0, 0, 0, 0, 0, 0, 1, 1, 1, 0, 0, 0, 0, 0, 0, 0, 0, 0, 1, 0, 0, 0,\n",
              "       1, 0, 0, 1, 0, 1, 0, 0, 0, 0, 0, 1, 0, 0, 1, 1, 0, 0, 0, 0, 0, 0,\n",
              "       1, 0, 0, 0, 0, 0, 0, 0, 0, 1, 1, 1, 0, 0, 0, 0, 0, 1, 0, 0, 0, 0,\n",
              "       0, 0, 0, 0, 0, 0, 0, 1, 0, 0, 0, 0, 0, 0, 0, 0, 0, 1, 1, 0, 1, 1,\n",
              "       0, 0, 0, 0, 0, 0, 0, 0, 1, 0, 0, 1, 0, 0, 0, 0, 0, 0, 1, 0, 0, 0,\n",
              "       0, 0, 0, 0, 0, 0, 0, 1, 1, 0, 0, 0, 0, 0, 1, 0, 1, 0, 1, 0, 0, 0,\n",
              "       0, 1, 0, 0, 1, 0, 0, 0, 0, 1, 1, 0, 1, 0, 0, 0, 0, 1, 1, 0, 1, 0,\n",
              "       0, 0, 0, 0, 0, 0, 1, 0, 0, 0, 0, 0, 0, 0, 0, 0, 0, 0, 0, 0, 0, 0,\n",
              "       0, 0, 0, 0, 1, 0, 0, 1, 0, 1, 0, 0, 0, 0, 0, 0, 0, 1, 0, 0, 1, 0,\n",
              "       1, 1, 1, 1, 0, 0, 1, 0, 0, 1, 1, 0, 0, 1, 0, 1, 1, 0, 0, 0, 0, 1,\n",
              "       0, 0, 0, 0, 0, 0, 0, 1, 0, 1, 0, 1, 0, 0, 1, 0, 0, 1, 0, 0, 1, 1,\n",
              "       0, 0, 0, 0, 1, 0, 0, 0, 1, 0, 0, 1, 1, 0, 0, 0, 0, 0, 0, 0, 0, 0,\n",
              "       0, 0, 0, 0, 0, 0, 1, 0, 0, 0, 0, 0, 0, 0, 1, 0, 0, 1, 1, 0, 1, 0,\n",
              "       1, 1, 1, 0, 0, 1, 1, 0, 0, 0, 0, 1, 0, 1, 0, 0, 0, 0, 0, 0])"
            ]
          },
          "metadata": {
            "tags": []
          },
          "execution_count": 86
        }
      ]
    },
    {
      "cell_type": "code",
      "metadata": {
        "id": "aulq1pWF1dZA",
        "colab_type": "code",
        "colab": {}
      },
      "source": [
        "#library for spliting data\n",
        "from sklearn.model_selection import train_test_split\n",
        "#specifying X, Y test and train data sizes\n",
        "X_train, X_test, y_train, y_test = train_test_split(X, y, test_size = .3, random_state=25)"
      ],
      "execution_count": 0,
      "outputs": []
    },
    {
      "cell_type": "code",
      "metadata": {
        "id": "t2F6oH490VCm",
        "colab_type": "code",
        "colab": {}
      },
      "source": [
        "# Using our model to make a prediction\n",
        "#\n",
        "y_pred = best_model.predict(X_test)"
      ],
      "execution_count": 0,
      "outputs": []
    },
    {
      "cell_type": "code",
      "metadata": {
        "id": "Ea4REQ361cFE",
        "colab_type": "code",
        "colab": {}
      },
      "source": [
        ""
      ],
      "execution_count": 0,
      "outputs": []
    },
    {
      "cell_type": "code",
      "metadata": {
        "id": "41qJ8THYz2SL",
        "colab_type": "code",
        "outputId": "51799f0e-afbe-44e1-d104-958f949d299e",
        "colab": {
          "base_uri": "https://localhost:8080/",
          "height": 51
        }
      },
      "source": [
        "# Evaluating the model\n",
        "#\n",
        "from sklearn.metrics import confusion_matrix\n",
        "confusion_matrix = confusion_matrix(y_test, y_pred)\n",
        "confusion_matrix\n",
        "\n",
        "# The results from the confusion matrix tell us that 141 and 47 are the number of correct predictions. \n",
        "# 24 and 19 are the number of incorrect predictions."
      ],
      "execution_count": 0,
      "outputs": [
        {
          "output_type": "execute_result",
          "data": {
            "text/plain": [
              "array([[141,  19],\n",
              "       [ 24,  47]])"
            ]
          },
          "metadata": {
            "tags": []
          },
          "execution_count": 89
        }
      ]
    },
    {
      "cell_type": "markdown",
      "metadata": {
        "id": "dKiRreUdZ9XJ",
        "colab_type": "text"
      },
      "source": [
        "## <font color=\"green\">Challenge 4</font>"
      ]
    },
    {
      "cell_type": "code",
      "metadata": {
        "id": "76beid_BaC7n",
        "colab_type": "code",
        "outputId": "9e86ca23-18cb-4d1f-80da-085f5e1999ee",
        "colab": {
          "base_uri": "https://localhost:8080/",
          "height": 419
        }
      },
      "source": [
        "# Challenge 4\n",
        "# ---\n",
        "# Build a model to determine whether a patient will be admitted. \n",
        "# To improve the accuracy of the model, perform hyperparameter tuning.\n",
        "# ---\n",
        "# Dataset url = https://bit.ly/patientAdmissionDataset\n",
        "# ---\n",
        "# \n",
        "patient=pd.read_csv(\"Logistic_regression_practice.csv\")\n",
        "patient"
      ],
      "execution_count": 0,
      "outputs": [
        {
          "output_type": "execute_result",
          "data": {
            "text/html": [
              "<div>\n",
              "<style scoped>\n",
              "    .dataframe tbody tr th:only-of-type {\n",
              "        vertical-align: middle;\n",
              "    }\n",
              "\n",
              "    .dataframe tbody tr th {\n",
              "        vertical-align: top;\n",
              "    }\n",
              "\n",
              "    .dataframe thead th {\n",
              "        text-align: right;\n",
              "    }\n",
              "</style>\n",
              "<table border=\"1\" class=\"dataframe\">\n",
              "  <thead>\n",
              "    <tr style=\"text-align: right;\">\n",
              "      <th></th>\n",
              "      <th>1st_exam</th>\n",
              "      <th>2nd_exam</th>\n",
              "      <th>admitted</th>\n",
              "    </tr>\n",
              "  </thead>\n",
              "  <tbody>\n",
              "    <tr>\n",
              "      <th>0</th>\n",
              "      <td>34.623660</td>\n",
              "      <td>78.024693</td>\n",
              "      <td>0</td>\n",
              "    </tr>\n",
              "    <tr>\n",
              "      <th>1</th>\n",
              "      <td>30.286711</td>\n",
              "      <td>43.894998</td>\n",
              "      <td>0</td>\n",
              "    </tr>\n",
              "    <tr>\n",
              "      <th>2</th>\n",
              "      <td>35.847409</td>\n",
              "      <td>72.902198</td>\n",
              "      <td>0</td>\n",
              "    </tr>\n",
              "    <tr>\n",
              "      <th>3</th>\n",
              "      <td>60.182599</td>\n",
              "      <td>86.308552</td>\n",
              "      <td>1</td>\n",
              "    </tr>\n",
              "    <tr>\n",
              "      <th>4</th>\n",
              "      <td>79.032736</td>\n",
              "      <td>75.344376</td>\n",
              "      <td>1</td>\n",
              "    </tr>\n",
              "    <tr>\n",
              "      <th>...</th>\n",
              "      <td>...</td>\n",
              "      <td>...</td>\n",
              "      <td>...</td>\n",
              "    </tr>\n",
              "    <tr>\n",
              "      <th>95</th>\n",
              "      <td>83.489163</td>\n",
              "      <td>48.380286</td>\n",
              "      <td>1</td>\n",
              "    </tr>\n",
              "    <tr>\n",
              "      <th>96</th>\n",
              "      <td>42.261701</td>\n",
              "      <td>87.103851</td>\n",
              "      <td>1</td>\n",
              "    </tr>\n",
              "    <tr>\n",
              "      <th>97</th>\n",
              "      <td>99.315009</td>\n",
              "      <td>68.775409</td>\n",
              "      <td>1</td>\n",
              "    </tr>\n",
              "    <tr>\n",
              "      <th>98</th>\n",
              "      <td>55.340018</td>\n",
              "      <td>64.931938</td>\n",
              "      <td>1</td>\n",
              "    </tr>\n",
              "    <tr>\n",
              "      <th>99</th>\n",
              "      <td>74.775893</td>\n",
              "      <td>89.529813</td>\n",
              "      <td>1</td>\n",
              "    </tr>\n",
              "  </tbody>\n",
              "</table>\n",
              "<p>100 rows × 3 columns</p>\n",
              "</div>"
            ],
            "text/plain": [
              "     1st_exam   2nd_exam  admitted\n",
              "0   34.623660  78.024693         0\n",
              "1   30.286711  43.894998         0\n",
              "2   35.847409  72.902198         0\n",
              "3   60.182599  86.308552         1\n",
              "4   79.032736  75.344376         1\n",
              "..        ...        ...       ...\n",
              "95  83.489163  48.380286         1\n",
              "96  42.261701  87.103851         1\n",
              "97  99.315009  68.775409         1\n",
              "98  55.340018  64.931938         1\n",
              "99  74.775893  89.529813         1\n",
              "\n",
              "[100 rows x 3 columns]"
            ]
          },
          "metadata": {
            "tags": []
          },
          "execution_count": 92
        }
      ]
    },
    {
      "cell_type": "code",
      "metadata": {
        "id": "U-YC_plr4PpE",
        "colab_type": "code",
        "outputId": "b67c7a01-984f-40f5-c912-419eb6ecdb95",
        "colab": {
          "base_uri": "https://localhost:8080/",
          "height": 34
        }
      },
      "source": [
        "patient.shape"
      ],
      "execution_count": 0,
      "outputs": [
        {
          "output_type": "execute_result",
          "data": {
            "text/plain": [
              "(100, 3)"
            ]
          },
          "metadata": {
            "tags": []
          },
          "execution_count": 93
        }
      ]
    },
    {
      "cell_type": "code",
      "metadata": {
        "id": "YI0TZocO4XQU",
        "colab_type": "code",
        "outputId": "f01859ae-e425-4096-b509-7377138a4dc7",
        "colab": {
          "base_uri": "https://localhost:8080/",
          "height": 85
        }
      },
      "source": [
        "patient.nunique()"
      ],
      "execution_count": 0,
      "outputs": [
        {
          "output_type": "execute_result",
          "data": {
            "text/plain": [
              "1st_exam    100\n",
              "2nd_exam    100\n",
              "admitted      2\n",
              "dtype: int64"
            ]
          },
          "metadata": {
            "tags": []
          },
          "execution_count": 94
        }
      ]
    },
    {
      "cell_type": "code",
      "metadata": {
        "id": "0QarQfC44XgJ",
        "colab_type": "code",
        "outputId": "433e8aef-2e6b-4921-d733-6181b6b2364c",
        "colab": {
          "base_uri": "https://localhost:8080/",
          "height": 85
        }
      },
      "source": [
        "patient.dtypes"
      ],
      "execution_count": 0,
      "outputs": [
        {
          "output_type": "execute_result",
          "data": {
            "text/plain": [
              "1st_exam    float64\n",
              "2nd_exam    float64\n",
              "admitted      int64\n",
              "dtype: object"
            ]
          },
          "metadata": {
            "tags": []
          },
          "execution_count": 95
        }
      ]
    },
    {
      "cell_type": "code",
      "metadata": {
        "id": "IKx4x0o14XrW",
        "colab_type": "code",
        "outputId": "8ff9bdc6-f1e6-4360-e7ae-3c5a4bbac926",
        "colab": {
          "base_uri": "https://localhost:8080/",
          "height": 296
        }
      },
      "source": [
        "#To make sure that it's a binary variable, let's use Seaborn's countplot() function.\n",
        "# \n",
        "sb.countplot(x='admitted',data=patient, palette='hls')"
      ],
      "execution_count": 0,
      "outputs": [
        {
          "output_type": "execute_result",
          "data": {
            "text/plain": [
              "<matplotlib.axes._subplots.AxesSubplot at 0x7fdef8abbef0>"
            ]
          },
          "metadata": {
            "tags": []
          },
          "execution_count": 96
        },
        {
          "output_type": "display_data",
          "data": {
            "image/png": "[encoded data removed]",
            "text/plain": [
              "<Figure size 432x288 with 1 Axes>"
            ]
          },
          "metadata": {
            "tags": [],
            "needs_background": "light"
          }
        }
      ]
    },
    {
      "cell_type": "code",
      "metadata": {
        "id": "HxkpDbGx5FqB",
        "colab_type": "code",
        "outputId": "fb9b06db-1521-4f7d-8c3e-fe6d407e61d0",
        "colab": {
          "base_uri": "https://localhost:8080/",
          "height": 287
        }
      },
      "source": [
        "# Checking for independence between features¶\n",
        "sb.heatmap(patient.corr())"
      ],
      "execution_count": 0,
      "outputs": [
        {
          "output_type": "execute_result",
          "data": {
            "text/plain": [
              "<matplotlib.axes._subplots.AxesSubplot at 0x7fdef89b31d0>"
            ]
          },
          "metadata": {
            "tags": []
          },
          "execution_count": 97
        },
        {
          "output_type": "display_data",
          "data": {
            "image/png": "[encoded data removed]",
            "text/plain": [
              "<Figure size 432x288 with 2 Axes>"
            ]
          },
          "metadata": {
            "tags": [],
            "needs_background": "light"
          }
        }
      ]
    },
    {
      "cell_type": "code",
      "metadata": {
        "id": "Wrhb5fIa5S7Z",
        "colab_type": "code",
        "outputId": "b38ca3e1-efde-4062-8d76-75f030174eeb",
        "colab": {
          "base_uri": "https://localhost:8080/",
          "height": 34
        }
      },
      "source": [
        "#selecting the dependent and independent variables\n",
        "#independent variables \n",
        "X=patient.drop('admitted',axis=1)\n",
        "#dependent variables\n",
        "y=patient['admitted']\n",
        "print(\"The shape of X is:\",{X.shape},\"and the shape of y is:\",{y.shape})"
      ],
      "execution_count": 0,
      "outputs": [
        {
          "output_type": "stream",
          "text": [
            "The shape of X is: {(100, 2)} and the shape of y is: {(100,)}\n"
          ],
          "name": "stdout"
        }
      ]
    },
    {
      "cell_type": "code",
      "metadata": {
        "id": "habsYK765tHl",
        "colab_type": "code",
        "colab": {}
      },
      "source": [
        "#library for spliting data\n",
        "from sklearn.model_selection import train_test_split\n",
        "#specifying X, Y test and train data sizes\n",
        "X_train, X_test, y_train, y_test = train_test_split(X, y, test_size = .3, random_state=25)"
      ],
      "execution_count": 0,
      "outputs": []
    },
    {
      "cell_type": "code",
      "metadata": {
        "id": "pORTQHAN51tE",
        "colab_type": "code",
        "colab": {}
      },
      "source": [
        "# Creating the logistic regression\n",
        "logistic = linear_model.LogisticRegression(C=1.0, class_weight=None, dual=False, fit_intercept=True,\n",
        "                   intercept_scaling=1, l1_ratio=None, max_iter=100,\n",
        "                   multi_class='auto', n_jobs=None, penalty='l2',\n",
        "                   random_state=None, solver='lbfgs', tol=0.0001, verbose=0,\n",
        "                   warm_start=False)"
      ],
      "execution_count": 0,
      "outputs": []
    },
    {
      "cell_type": "code",
      "metadata": {
        "id": "25BxyXiM6C0x",
        "colab_type": "code",
        "colab": {}
      },
      "source": [
        "# Creating regularization penalty space\n",
        "penalty = ['l2']#l1 not supported\n",
        "\n",
        "# Creating regularization hyperparameter space\n",
        "C = np.logspace(0, 4, 10)\n",
        "\n",
        "# Creating hyperparameter options\n",
        "hyperparameters = dict(C=C, penalty=penalty)"
      ],
      "execution_count": 0,
      "outputs": []
    },
    {
      "cell_type": "code",
      "metadata": {
        "id": "BwDgELq16JZP",
        "colab_type": "code",
        "colab": {}
      },
      "source": [
        "# Creating grid search using 5-fold cross validation\n",
        "clf = GridSearchCV(logistic, hyperparameters, cv=5, verbose=0)"
      ],
      "execution_count": 0,
      "outputs": []
    },
    {
      "cell_type": "code",
      "metadata": {
        "id": "QeHGgjHC6JfR",
        "colab_type": "code",
        "colab": {}
      },
      "source": [
        "# Fitting grid search\n",
        "best_model = clf.fit(X, y)"
      ],
      "execution_count": 0,
      "outputs": []
    },
    {
      "cell_type": "code",
      "metadata": {
        "id": "1X-V7SvN6Jl7",
        "colab_type": "code",
        "outputId": "d3e693cf-ab10-4af7-cd22-cc5e21eb9b3a",
        "colab": {
          "base_uri": "https://localhost:8080/",
          "height": 51
        }
      },
      "source": [
        "# Viewing best hyperparameters\n",
        "print('Best Penalty:', best_model.best_estimator_.get_params()['penalty'])\n",
        "print('Best C:', best_model.best_estimator_.get_params()['C'])"
      ],
      "execution_count": 0,
      "outputs": [
        {
          "output_type": "stream",
          "text": [
            "Best Penalty: l2\n",
            "Best C: 2.7825594022071245\n"
          ],
          "name": "stdout"
        }
      ]
    },
    {
      "cell_type": "code",
      "metadata": {
        "id": "oim1xTxk6hfe",
        "colab_type": "code",
        "outputId": "ee2db736-365e-43d5-8442-5f39c17e3dde",
        "colab": {
          "base_uri": "https://localhost:8080/",
          "height": 102
        }
      },
      "source": [
        "# Predicting target vector\n",
        "best_model.predict(X)"
      ],
      "execution_count": 0,
      "outputs": [
        {
          "output_type": "execute_result",
          "data": {
            "text/plain": [
              "array([0, 0, 0, 1, 1, 0, 1, 0, 1, 1, 1, 0, 1, 1, 0, 1, 0, 0, 1, 1, 0, 1,\n",
              "       0, 0, 1, 1, 1, 1, 0, 0, 1, 1, 0, 0, 0, 0, 1, 1, 0, 0, 1, 0, 1, 1,\n",
              "       0, 0, 1, 1, 1, 1, 1, 1, 1, 0, 0, 0, 1, 1, 1, 1, 1, 0, 0, 0, 0, 0,\n",
              "       1, 0, 1, 1, 0, 1, 1, 1, 1, 1, 1, 1, 0, 1, 1, 1, 1, 0, 1, 1, 0, 1,\n",
              "       1, 0, 1, 1, 0, 1, 1, 1, 1, 1, 0, 1])"
            ]
          },
          "metadata": {
            "tags": []
          },
          "execution_count": 105
        }
      ]
    },
    {
      "cell_type": "code",
      "metadata": {
        "id": "iI8tJqRi6JdY",
        "colab_type": "code",
        "colab": {}
      },
      "source": [
        "#library for spliting data\n",
        "from sklearn.model_selection import train_test_split\n",
        "#specifying X, Y test and train data sizes\n",
        "X_train, X_test, y_train, y_test = train_test_split(X, y, test_size = .3, random_state=25)"
      ],
      "execution_count": 0,
      "outputs": []
    },
    {
      "cell_type": "code",
      "metadata": {
        "id": "qlrUF0Ar7Npo",
        "colab_type": "code",
        "colab": {}
      },
      "source": [
        "# Using our model to make a prediction\n",
        "#\n",
        "y_pred = best_model.predict(X_test)"
      ],
      "execution_count": 0,
      "outputs": []
    },
    {
      "cell_type": "code",
      "metadata": {
        "id": "bs7VLe4k6yaj",
        "colab_type": "code",
        "outputId": "4b778865-5567-44e4-c1ee-e3f41fb185ce",
        "colab": {
          "base_uri": "https://localhost:8080/",
          "height": 51
        }
      },
      "source": [
        "# Evaluating the model\n",
        "#\n",
        "from sklearn.metrics import confusion_matrix\n",
        "confusion_matrix = confusion_matrix(y_test, y_pred)\n",
        "confusion_matrix\n",
        "\n",
        "# The results from the confusion matrix tell us that 17 and 9 are the number of correct predictions. \n",
        "# 2 and 2 are the number of incorrect predictions."
      ],
      "execution_count": 0,
      "outputs": [
        {
          "output_type": "execute_result",
          "data": {
            "text/plain": [
              "array([[ 9,  2],\n",
              "       [ 2, 17]])"
            ]
          },
          "metadata": {
            "tags": []
          },
          "execution_count": 118
        }
      ]
    },
    {
      "cell_type": "code",
      "metadata": {
        "id": "Gq0jixjA6JXk",
        "colab_type": "code",
        "colab": {}
      },
      "source": [
        ""
      ],
      "execution_count": 0,
      "outputs": []
    },
    {
      "cell_type": "markdown",
      "metadata": {
        "id": "Cz6aV2saaAlS",
        "colab_type": "text"
      },
      "source": [
        "## <font color=\"green\">Challenge 5</font>"
      ]
    },
    {
      "cell_type": "code",
      "metadata": {
        "id": "r_cwqeK-aHs3",
        "colab_type": "code",
        "outputId": "c21b0a3a-5fc4-45c1-f5bb-68e5ddea56f1",
        "colab": {
          "base_uri": "https://localhost:8080/",
          "height": 589
        }
      },
      "source": [
        "# Challenge 5\n",
        "# ---\n",
        "# You have a telecom firm which has collected data of all its customers. \n",
        "# The main types of attributes are: \n",
        "# 1.Demographics (age, gender etc.) \n",
        "# 2.Services availed (internet packs purchased, special offers etc) \n",
        "# 3.Expenses (amount of recharge done per month etc.) \n",
        "# Based on all this past information, build an accurate model which will predict \n",
        "# whether a particular customer will churn or not. \n",
        "# ---\n",
        "# Dataset source = https://bit.ly/churnPredictDataset\n",
        "# ---\n",
        "# \n",
        "customerchurn=pd.read_csv('churn_data.csv')\n",
        "customerchurn"
      ],
      "execution_count": 0,
      "outputs": [
        {
          "output_type": "execute_result",
          "data": {
            "text/html": [
              "<div>\n",
              "<style scoped>\n",
              "    .dataframe tbody tr th:only-of-type {\n",
              "        vertical-align: middle;\n",
              "    }\n",
              "\n",
              "    .dataframe tbody tr th {\n",
              "        vertical-align: top;\n",
              "    }\n",
              "\n",
              "    .dataframe thead th {\n",
              "        text-align: right;\n",
              "    }\n",
              "</style>\n",
              "<table border=\"1\" class=\"dataframe\">\n",
              "  <thead>\n",
              "    <tr style=\"text-align: right;\">\n",
              "      <th></th>\n",
              "      <th>customerID</th>\n",
              "      <th>tenure</th>\n",
              "      <th>PhoneService</th>\n",
              "      <th>Contract</th>\n",
              "      <th>PaperlessBilling</th>\n",
              "      <th>PaymentMethod</th>\n",
              "      <th>MonthlyCharges</th>\n",
              "      <th>TotalCharges</th>\n",
              "      <th>Churn</th>\n",
              "    </tr>\n",
              "  </thead>\n",
              "  <tbody>\n",
              "    <tr>\n",
              "      <th>0</th>\n",
              "      <td>7590-VHVEG</td>\n",
              "      <td>1</td>\n",
              "      <td>No</td>\n",
              "      <td>Month-to-month</td>\n",
              "      <td>Yes</td>\n",
              "      <td>Electronic check</td>\n",
              "      <td>29.85</td>\n",
              "      <td>29.85</td>\n",
              "      <td>No</td>\n",
              "    </tr>\n",
              "    <tr>\n",
              "      <th>1</th>\n",
              "      <td>5575-GNVDE</td>\n",
              "      <td>34</td>\n",
              "      <td>Yes</td>\n",
              "      <td>One year</td>\n",
              "      <td>No</td>\n",
              "      <td>Mailed check</td>\n",
              "      <td>56.95</td>\n",
              "      <td>1889.5</td>\n",
              "      <td>No</td>\n",
              "    </tr>\n",
              "    <tr>\n",
              "      <th>2</th>\n",
              "      <td>3668-QPYBK</td>\n",
              "      <td>2</td>\n",
              "      <td>Yes</td>\n",
              "      <td>Month-to-month</td>\n",
              "      <td>Yes</td>\n",
              "      <td>Mailed check</td>\n",
              "      <td>53.85</td>\n",
              "      <td>108.15</td>\n",
              "      <td>Yes</td>\n",
              "    </tr>\n",
              "    <tr>\n",
              "      <th>3</th>\n",
              "      <td>7795-CFOCW</td>\n",
              "      <td>45</td>\n",
              "      <td>No</td>\n",
              "      <td>One year</td>\n",
              "      <td>No</td>\n",
              "      <td>Bank transfer (automatic)</td>\n",
              "      <td>42.30</td>\n",
              "      <td>1840.75</td>\n",
              "      <td>No</td>\n",
              "    </tr>\n",
              "    <tr>\n",
              "      <th>4</th>\n",
              "      <td>9237-HQITU</td>\n",
              "      <td>2</td>\n",
              "      <td>Yes</td>\n",
              "      <td>Month-to-month</td>\n",
              "      <td>Yes</td>\n",
              "      <td>Electronic check</td>\n",
              "      <td>70.70</td>\n",
              "      <td>151.65</td>\n",
              "      <td>Yes</td>\n",
              "    </tr>\n",
              "    <tr>\n",
              "      <th>...</th>\n",
              "      <td>...</td>\n",
              "      <td>...</td>\n",
              "      <td>...</td>\n",
              "      <td>...</td>\n",
              "      <td>...</td>\n",
              "      <td>...</td>\n",
              "      <td>...</td>\n",
              "      <td>...</td>\n",
              "      <td>...</td>\n",
              "    </tr>\n",
              "    <tr>\n",
              "      <th>7037</th>\n",
              "      <td>2569-WGERO</td>\n",
              "      <td>72</td>\n",
              "      <td>Yes</td>\n",
              "      <td>Two year</td>\n",
              "      <td>Yes</td>\n",
              "      <td>Bank transfer (automatic)</td>\n",
              "      <td>21.15</td>\n",
              "      <td>1419.4</td>\n",
              "      <td>No</td>\n",
              "    </tr>\n",
              "    <tr>\n",
              "      <th>7038</th>\n",
              "      <td>6840-RESVB</td>\n",
              "      <td>24</td>\n",
              "      <td>Yes</td>\n",
              "      <td>One year</td>\n",
              "      <td>Yes</td>\n",
              "      <td>Mailed check</td>\n",
              "      <td>84.80</td>\n",
              "      <td>1990.5</td>\n",
              "      <td>No</td>\n",
              "    </tr>\n",
              "    <tr>\n",
              "      <th>7039</th>\n",
              "      <td>2234-XADUH</td>\n",
              "      <td>72</td>\n",
              "      <td>Yes</td>\n",
              "      <td>One year</td>\n",
              "      <td>Yes</td>\n",
              "      <td>Credit card (automatic)</td>\n",
              "      <td>103.20</td>\n",
              "      <td>7362.9</td>\n",
              "      <td>No</td>\n",
              "    </tr>\n",
              "    <tr>\n",
              "      <th>7040</th>\n",
              "      <td>4801-JZAZL</td>\n",
              "      <td>11</td>\n",
              "      <td>No</td>\n",
              "      <td>Month-to-month</td>\n",
              "      <td>Yes</td>\n",
              "      <td>Electronic check</td>\n",
              "      <td>29.60</td>\n",
              "      <td>346.45</td>\n",
              "      <td>No</td>\n",
              "    </tr>\n",
              "    <tr>\n",
              "      <th>7041</th>\n",
              "      <td>8361-LTMKD</td>\n",
              "      <td>4</td>\n",
              "      <td>Yes</td>\n",
              "      <td>Month-to-month</td>\n",
              "      <td>Yes</td>\n",
              "      <td>Mailed check</td>\n",
              "      <td>74.40</td>\n",
              "      <td>306.6</td>\n",
              "      <td>Yes</td>\n",
              "    </tr>\n",
              "  </tbody>\n",
              "</table>\n",
              "<p>7042 rows × 9 columns</p>\n",
              "</div>"
            ],
            "text/plain": [
              "      customerID  tenure PhoneService  ... MonthlyCharges TotalCharges Churn\n",
              "0     7590-VHVEG       1           No  ...          29.85        29.85    No\n",
              "1     5575-GNVDE      34          Yes  ...          56.95       1889.5    No\n",
              "2     3668-QPYBK       2          Yes  ...          53.85       108.15   Yes\n",
              "3     7795-CFOCW      45           No  ...          42.30      1840.75    No\n",
              "4     9237-HQITU       2          Yes  ...          70.70       151.65   Yes\n",
              "...          ...     ...          ...  ...            ...          ...   ...\n",
              "7037  2569-WGERO      72          Yes  ...          21.15       1419.4    No\n",
              "7038  6840-RESVB      24          Yes  ...          84.80       1990.5    No\n",
              "7039  2234-XADUH      72          Yes  ...         103.20       7362.9    No\n",
              "7040  4801-JZAZL      11           No  ...          29.60       346.45    No\n",
              "7041  8361-LTMKD       4          Yes  ...          74.40        306.6   Yes\n",
              "\n",
              "[7042 rows x 9 columns]"
            ]
          },
          "metadata": {
            "tags": []
          },
          "execution_count": 148
        }
      ]
    },
    {
      "cell_type": "code",
      "metadata": {
        "id": "KboZslYE8sAB",
        "colab_type": "code",
        "outputId": "66cddf05-2be7-4e04-aa92-43639e688adc",
        "colab": {
          "base_uri": "https://localhost:8080/",
          "height": 187
        }
      },
      "source": [
        "customerchurn.dtypes"
      ],
      "execution_count": 0,
      "outputs": [
        {
          "output_type": "execute_result",
          "data": {
            "text/plain": [
              "customerID           object\n",
              "tenure                int64\n",
              "PhoneService         object\n",
              "Contract             object\n",
              "PaperlessBilling     object\n",
              "PaymentMethod        object\n",
              "MonthlyCharges      float64\n",
              "TotalCharges         object\n",
              "Churn                object\n",
              "dtype: object"
            ]
          },
          "metadata": {
            "tags": []
          },
          "execution_count": 149
        }
      ]
    },
    {
      "cell_type": "code",
      "metadata": {
        "id": "vLupDFWP8zAS",
        "colab_type": "code",
        "outputId": "8685e0bb-e506-4418-caea-fcb81aca5cb9",
        "colab": {
          "base_uri": "https://localhost:8080/",
          "height": 187
        }
      },
      "source": [
        "customerchurn.nunique()"
      ],
      "execution_count": 0,
      "outputs": [
        {
          "output_type": "execute_result",
          "data": {
            "text/plain": [
              "customerID          7042\n",
              "tenure                73\n",
              "PhoneService           2\n",
              "Contract               3\n",
              "PaperlessBilling       2\n",
              "PaymentMethod          4\n",
              "MonthlyCharges      1585\n",
              "TotalCharges        6530\n",
              "Churn                  2\n",
              "dtype: int64"
            ]
          },
          "metadata": {
            "tags": []
          },
          "execution_count": 150
        }
      ]
    },
    {
      "cell_type": "code",
      "metadata": {
        "id": "O3Sbkby4AA51",
        "colab_type": "code",
        "colab": {}
      },
      "source": [
        "#changing datatype of the ['TotalCharges'] to float\n",
        "customerchurn['TotalCharges'] = pd.to_numeric(customerchurn['TotalCharges'], errors='coerce')"
      ],
      "execution_count": 0,
      "outputs": []
    },
    {
      "cell_type": "code",
      "metadata": {
        "id": "4UnKBlAbZSwq",
        "colab_type": "code",
        "outputId": "ace6eafe-5d15-4129-f8a4-e56bc2ce55d5",
        "colab": {
          "base_uri": "https://localhost:8080/",
          "height": 221
        }
      },
      "source": [
        "customerchurn['TotalCharges']"
      ],
      "execution_count": 0,
      "outputs": [
        {
          "output_type": "execute_result",
          "data": {
            "text/plain": [
              "0         29.85\n",
              "1       1889.50\n",
              "2        108.15\n",
              "3       1840.75\n",
              "4        151.65\n",
              "         ...   \n",
              "7037    1419.40\n",
              "7038    1990.50\n",
              "7039    7362.90\n",
              "7040     346.45\n",
              "7041     306.60\n",
              "Name: TotalCharges, Length: 7042, dtype: float64"
            ]
          },
          "metadata": {
            "tags": []
          },
          "execution_count": 152
        }
      ]
    },
    {
      "cell_type": "code",
      "metadata": {
        "id": "0zH49pJMbO8G",
        "colab_type": "code",
        "outputId": "40e672a6-44be-4107-eddc-f8d7982fcf35",
        "colab": {
          "base_uri": "https://localhost:8080/",
          "height": 68
        }
      },
      "source": [
        "customerchurn.columns"
      ],
      "execution_count": 0,
      "outputs": [
        {
          "output_type": "execute_result",
          "data": {
            "text/plain": [
              "Index(['customerID', 'tenure', 'PhoneService', 'Contract', 'PaperlessBilling',\n",
              "       'PaymentMethod', 'MonthlyCharges', 'TotalCharges', 'Churn'],\n",
              "      dtype='object')"
            ]
          },
          "metadata": {
            "tags": []
          },
          "execution_count": 153
        }
      ]
    },
    {
      "cell_type": "code",
      "metadata": {
        "id": "eV1mDnOZbk6V",
        "colab_type": "code",
        "outputId": "5b783e80-d44c-4ce5-eca7-19ff546877d6",
        "colab": {
          "base_uri": "https://localhost:8080/",
          "height": 289
        }
      },
      "source": [
        "#'PhoneService','Contract','PaperlessBilling','PaymentMethod','Churn'\n",
        "PhoneService_dmy= pd.get_dummies(customerchurn['PhoneService'],drop_first=True)\n",
        "churn_data = pd.concat([customerchurn,PhoneService_dmy],axis=1)\n",
        "churn_data.rename(columns={'Yes':'PhoneServices'},inplace=True)\n",
        "churn_data1=churn_data.drop(['PhoneService'],axis=1)\n",
        "churn_data1.head()"
      ],
      "execution_count": 0,
      "outputs": [
        {
          "output_type": "execute_result",
          "data": {
            "text/html": [
              "<div>\n",
              "<style scoped>\n",
              "    .dataframe tbody tr th:only-of-type {\n",
              "        vertical-align: middle;\n",
              "    }\n",
              "\n",
              "    .dataframe tbody tr th {\n",
              "        vertical-align: top;\n",
              "    }\n",
              "\n",
              "    .dataframe thead th {\n",
              "        text-align: right;\n",
              "    }\n",
              "</style>\n",
              "<table border=\"1\" class=\"dataframe\">\n",
              "  <thead>\n",
              "    <tr style=\"text-align: right;\">\n",
              "      <th></th>\n",
              "      <th>customerID</th>\n",
              "      <th>tenure</th>\n",
              "      <th>Contract</th>\n",
              "      <th>PaperlessBilling</th>\n",
              "      <th>PaymentMethod</th>\n",
              "      <th>MonthlyCharges</th>\n",
              "      <th>TotalCharges</th>\n",
              "      <th>Churn</th>\n",
              "      <th>PhoneServices</th>\n",
              "    </tr>\n",
              "  </thead>\n",
              "  <tbody>\n",
              "    <tr>\n",
              "      <th>0</th>\n",
              "      <td>7590-VHVEG</td>\n",
              "      <td>1</td>\n",
              "      <td>Month-to-month</td>\n",
              "      <td>Yes</td>\n",
              "      <td>Electronic check</td>\n",
              "      <td>29.85</td>\n",
              "      <td>29.85</td>\n",
              "      <td>No</td>\n",
              "      <td>0</td>\n",
              "    </tr>\n",
              "    <tr>\n",
              "      <th>1</th>\n",
              "      <td>5575-GNVDE</td>\n",
              "      <td>34</td>\n",
              "      <td>One year</td>\n",
              "      <td>No</td>\n",
              "      <td>Mailed check</td>\n",
              "      <td>56.95</td>\n",
              "      <td>1889.50</td>\n",
              "      <td>No</td>\n",
              "      <td>1</td>\n",
              "    </tr>\n",
              "    <tr>\n",
              "      <th>2</th>\n",
              "      <td>3668-QPYBK</td>\n",
              "      <td>2</td>\n",
              "      <td>Month-to-month</td>\n",
              "      <td>Yes</td>\n",
              "      <td>Mailed check</td>\n",
              "      <td>53.85</td>\n",
              "      <td>108.15</td>\n",
              "      <td>Yes</td>\n",
              "      <td>1</td>\n",
              "    </tr>\n",
              "    <tr>\n",
              "      <th>3</th>\n",
              "      <td>7795-CFOCW</td>\n",
              "      <td>45</td>\n",
              "      <td>One year</td>\n",
              "      <td>No</td>\n",
              "      <td>Bank transfer (automatic)</td>\n",
              "      <td>42.30</td>\n",
              "      <td>1840.75</td>\n",
              "      <td>No</td>\n",
              "      <td>0</td>\n",
              "    </tr>\n",
              "    <tr>\n",
              "      <th>4</th>\n",
              "      <td>9237-HQITU</td>\n",
              "      <td>2</td>\n",
              "      <td>Month-to-month</td>\n",
              "      <td>Yes</td>\n",
              "      <td>Electronic check</td>\n",
              "      <td>70.70</td>\n",
              "      <td>151.65</td>\n",
              "      <td>Yes</td>\n",
              "      <td>1</td>\n",
              "    </tr>\n",
              "  </tbody>\n",
              "</table>\n",
              "</div>"
            ],
            "text/plain": [
              "   customerID  tenure        Contract  ... TotalCharges Churn  PhoneServices\n",
              "0  7590-VHVEG       1  Month-to-month  ...        29.85    No              0\n",
              "1  5575-GNVDE      34        One year  ...      1889.50    No              1\n",
              "2  3668-QPYBK       2  Month-to-month  ...       108.15   Yes              1\n",
              "3  7795-CFOCW      45        One year  ...      1840.75    No              0\n",
              "4  9237-HQITU       2  Month-to-month  ...       151.65   Yes              1\n",
              "\n",
              "[5 rows x 9 columns]"
            ]
          },
          "metadata": {
            "tags": []
          },
          "execution_count": 166
        }
      ]
    },
    {
      "cell_type": "code",
      "metadata": {
        "id": "cd7vpeeOsg-a",
        "colab_type": "code",
        "outputId": "596e491c-7efa-46df-e0ea-efc4c2753203",
        "colab": {
          "base_uri": "https://localhost:8080/",
          "height": 289
        }
      },
      "source": [
        "#'PhoneService','Contract','PaperlessBilling','PaymentMethod','Churn'\n",
        "PaperlessBilling_dmy= pd.get_dummies(churn_data1['PaperlessBilling'],drop_first=True)\n",
        "churn_data1 = pd.concat([churn_data1,PaperlessBilling_dmy],axis=1)\n",
        "churn_data1.rename(columns={'Yes':'PaperlessBillings'},inplace=True)\n",
        "churn_data2=churn_data1.drop(['PaperlessBilling'],axis=1)\n",
        "churn_data2.head()"
      ],
      "execution_count": 0,
      "outputs": [
        {
          "output_type": "execute_result",
          "data": {
            "text/html": [
              "<div>\n",
              "<style scoped>\n",
              "    .dataframe tbody tr th:only-of-type {\n",
              "        vertical-align: middle;\n",
              "    }\n",
              "\n",
              "    .dataframe tbody tr th {\n",
              "        vertical-align: top;\n",
              "    }\n",
              "\n",
              "    .dataframe thead th {\n",
              "        text-align: right;\n",
              "    }\n",
              "</style>\n",
              "<table border=\"1\" class=\"dataframe\">\n",
              "  <thead>\n",
              "    <tr style=\"text-align: right;\">\n",
              "      <th></th>\n",
              "      <th>customerID</th>\n",
              "      <th>tenure</th>\n",
              "      <th>Contract</th>\n",
              "      <th>PaymentMethod</th>\n",
              "      <th>MonthlyCharges</th>\n",
              "      <th>TotalCharges</th>\n",
              "      <th>Churn</th>\n",
              "      <th>PhoneServices</th>\n",
              "      <th>PaperlessBillings</th>\n",
              "    </tr>\n",
              "  </thead>\n",
              "  <tbody>\n",
              "    <tr>\n",
              "      <th>0</th>\n",
              "      <td>7590-VHVEG</td>\n",
              "      <td>1</td>\n",
              "      <td>Month-to-month</td>\n",
              "      <td>Electronic check</td>\n",
              "      <td>29.85</td>\n",
              "      <td>29.85</td>\n",
              "      <td>No</td>\n",
              "      <td>0</td>\n",
              "      <td>1</td>\n",
              "    </tr>\n",
              "    <tr>\n",
              "      <th>1</th>\n",
              "      <td>5575-GNVDE</td>\n",
              "      <td>34</td>\n",
              "      <td>One year</td>\n",
              "      <td>Mailed check</td>\n",
              "      <td>56.95</td>\n",
              "      <td>1889.50</td>\n",
              "      <td>No</td>\n",
              "      <td>1</td>\n",
              "      <td>0</td>\n",
              "    </tr>\n",
              "    <tr>\n",
              "      <th>2</th>\n",
              "      <td>3668-QPYBK</td>\n",
              "      <td>2</td>\n",
              "      <td>Month-to-month</td>\n",
              "      <td>Mailed check</td>\n",
              "      <td>53.85</td>\n",
              "      <td>108.15</td>\n",
              "      <td>Yes</td>\n",
              "      <td>1</td>\n",
              "      <td>1</td>\n",
              "    </tr>\n",
              "    <tr>\n",
              "      <th>3</th>\n",
              "      <td>7795-CFOCW</td>\n",
              "      <td>45</td>\n",
              "      <td>One year</td>\n",
              "      <td>Bank transfer (automatic)</td>\n",
              "      <td>42.30</td>\n",
              "      <td>1840.75</td>\n",
              "      <td>No</td>\n",
              "      <td>0</td>\n",
              "      <td>0</td>\n",
              "    </tr>\n",
              "    <tr>\n",
              "      <th>4</th>\n",
              "      <td>9237-HQITU</td>\n",
              "      <td>2</td>\n",
              "      <td>Month-to-month</td>\n",
              "      <td>Electronic check</td>\n",
              "      <td>70.70</td>\n",
              "      <td>151.65</td>\n",
              "      <td>Yes</td>\n",
              "      <td>1</td>\n",
              "      <td>1</td>\n",
              "    </tr>\n",
              "  </tbody>\n",
              "</table>\n",
              "</div>"
            ],
            "text/plain": [
              "   customerID  tenure        Contract  ... Churn  PhoneServices  PaperlessBillings\n",
              "0  7590-VHVEG       1  Month-to-month  ...    No              0                  1\n",
              "1  5575-GNVDE      34        One year  ...    No              1                  0\n",
              "2  3668-QPYBK       2  Month-to-month  ...   Yes              1                  1\n",
              "3  7795-CFOCW      45        One year  ...    No              0                  0\n",
              "4  9237-HQITU       2  Month-to-month  ...   Yes              1                  1\n",
              "\n",
              "[5 rows x 9 columns]"
            ]
          },
          "metadata": {
            "tags": []
          },
          "execution_count": 168
        }
      ]
    },
    {
      "cell_type": "code",
      "metadata": {
        "id": "p557-eodqEuo",
        "colab_type": "code",
        "outputId": "db209fa2-7459-4cfe-dd01-22a5e07dd6fb",
        "colab": {
          "base_uri": "https://localhost:8080/",
          "height": 289
        }
      },
      "source": [
        "#'PhoneService','Contract','PaperlessBilling','PaymentMethod','Churn'\n",
        "Churn_dmy= pd.get_dummies(churn_data2['Churn'],drop_first=True)\n",
        "churn_data2 = pd.concat([churn_data2,Churn_dmy],axis=1)\n",
        "churn_data2.rename(columns={'Yes':'Churns'},inplace=True)\n",
        "churn_data3=churn_data2.drop(['Churn'],axis=1)\n",
        "churn_data3.head()"
      ],
      "execution_count": 0,
      "outputs": [
        {
          "output_type": "execute_result",
          "data": {
            "text/html": [
              "<div>\n",
              "<style scoped>\n",
              "    .dataframe tbody tr th:only-of-type {\n",
              "        vertical-align: middle;\n",
              "    }\n",
              "\n",
              "    .dataframe tbody tr th {\n",
              "        vertical-align: top;\n",
              "    }\n",
              "\n",
              "    .dataframe thead th {\n",
              "        text-align: right;\n",
              "    }\n",
              "</style>\n",
              "<table border=\"1\" class=\"dataframe\">\n",
              "  <thead>\n",
              "    <tr style=\"text-align: right;\">\n",
              "      <th></th>\n",
              "      <th>customerID</th>\n",
              "      <th>tenure</th>\n",
              "      <th>Contract</th>\n",
              "      <th>PaymentMethod</th>\n",
              "      <th>MonthlyCharges</th>\n",
              "      <th>TotalCharges</th>\n",
              "      <th>PhoneServices</th>\n",
              "      <th>PaperlessBillings</th>\n",
              "      <th>Churns</th>\n",
              "    </tr>\n",
              "  </thead>\n",
              "  <tbody>\n",
              "    <tr>\n",
              "      <th>0</th>\n",
              "      <td>7590-VHVEG</td>\n",
              "      <td>1</td>\n",
              "      <td>Month-to-month</td>\n",
              "      <td>Electronic check</td>\n",
              "      <td>29.85</td>\n",
              "      <td>29.85</td>\n",
              "      <td>0</td>\n",
              "      <td>1</td>\n",
              "      <td>0</td>\n",
              "    </tr>\n",
              "    <tr>\n",
              "      <th>1</th>\n",
              "      <td>5575-GNVDE</td>\n",
              "      <td>34</td>\n",
              "      <td>One year</td>\n",
              "      <td>Mailed check</td>\n",
              "      <td>56.95</td>\n",
              "      <td>1889.50</td>\n",
              "      <td>1</td>\n",
              "      <td>0</td>\n",
              "      <td>0</td>\n",
              "    </tr>\n",
              "    <tr>\n",
              "      <th>2</th>\n",
              "      <td>3668-QPYBK</td>\n",
              "      <td>2</td>\n",
              "      <td>Month-to-month</td>\n",
              "      <td>Mailed check</td>\n",
              "      <td>53.85</td>\n",
              "      <td>108.15</td>\n",
              "      <td>1</td>\n",
              "      <td>1</td>\n",
              "      <td>1</td>\n",
              "    </tr>\n",
              "    <tr>\n",
              "      <th>3</th>\n",
              "      <td>7795-CFOCW</td>\n",
              "      <td>45</td>\n",
              "      <td>One year</td>\n",
              "      <td>Bank transfer (automatic)</td>\n",
              "      <td>42.30</td>\n",
              "      <td>1840.75</td>\n",
              "      <td>0</td>\n",
              "      <td>0</td>\n",
              "      <td>0</td>\n",
              "    </tr>\n",
              "    <tr>\n",
              "      <th>4</th>\n",
              "      <td>9237-HQITU</td>\n",
              "      <td>2</td>\n",
              "      <td>Month-to-month</td>\n",
              "      <td>Electronic check</td>\n",
              "      <td>70.70</td>\n",
              "      <td>151.65</td>\n",
              "      <td>1</td>\n",
              "      <td>1</td>\n",
              "      <td>1</td>\n",
              "    </tr>\n",
              "  </tbody>\n",
              "</table>\n",
              "</div>"
            ],
            "text/plain": [
              "   customerID  tenure        Contract  ... PhoneServices  PaperlessBillings  Churns\n",
              "0  7590-VHVEG       1  Month-to-month  ...             0                  1       0\n",
              "1  5575-GNVDE      34        One year  ...             1                  0       0\n",
              "2  3668-QPYBK       2  Month-to-month  ...             1                  1       1\n",
              "3  7795-CFOCW      45        One year  ...             0                  0       0\n",
              "4  9237-HQITU       2  Month-to-month  ...             1                  1       1\n",
              "\n",
              "[5 rows x 9 columns]"
            ]
          },
          "metadata": {
            "tags": []
          },
          "execution_count": 169
        }
      ]
    },
    {
      "cell_type": "code",
      "metadata": {
        "id": "_12iF0KVfTnG",
        "colab_type": "code",
        "outputId": "ade1e88e-72f5-4d1e-bde9-bfadd39d55df",
        "colab": {
          "base_uri": "https://localhost:8080/",
          "height": 204
        }
      },
      "source": [
        "#'customerID','Contract','PaymentMethod'\n",
        "# Importing label encoder\n",
        "# \n",
        "from sklearn.preprocessing import LabelEncoder\n",
        "categorical_features = ['customerID','Contract','PaymentMethod']\n",
        "le = LabelEncoder()\n",
        " \n",
        "# Converting the variables to numerical\n",
        "#\n",
        "for i in range(3):\n",
        "    new = le.fit_transform(churn_data3[categorical_features[i]])\n",
        "    churn_data3[categorical_features[i]] = new\n",
        "churn_data3.head()"
      ],
      "execution_count": 0,
      "outputs": [
        {
          "output_type": "execute_result",
          "data": {
            "text/html": [
              "<div>\n",
              "<style scoped>\n",
              "    .dataframe tbody tr th:only-of-type {\n",
              "        vertical-align: middle;\n",
              "    }\n",
              "\n",
              "    .dataframe tbody tr th {\n",
              "        vertical-align: top;\n",
              "    }\n",
              "\n",
              "    .dataframe thead th {\n",
              "        text-align: right;\n",
              "    }\n",
              "</style>\n",
              "<table border=\"1\" class=\"dataframe\">\n",
              "  <thead>\n",
              "    <tr style=\"text-align: right;\">\n",
              "      <th></th>\n",
              "      <th>customerID</th>\n",
              "      <th>tenure</th>\n",
              "      <th>Contract</th>\n",
              "      <th>PaymentMethod</th>\n",
              "      <th>MonthlyCharges</th>\n",
              "      <th>TotalCharges</th>\n",
              "      <th>PhoneServices</th>\n",
              "      <th>PaperlessBillings</th>\n",
              "      <th>Churns</th>\n",
              "    </tr>\n",
              "  </thead>\n",
              "  <tbody>\n",
              "    <tr>\n",
              "      <th>0</th>\n",
              "      <td>5374</td>\n",
              "      <td>1</td>\n",
              "      <td>0</td>\n",
              "      <td>2</td>\n",
              "      <td>29.85</td>\n",
              "      <td>29.85</td>\n",
              "      <td>0</td>\n",
              "      <td>1</td>\n",
              "      <td>0</td>\n",
              "    </tr>\n",
              "    <tr>\n",
              "      <th>1</th>\n",
              "      <td>3961</td>\n",
              "      <td>34</td>\n",
              "      <td>1</td>\n",
              "      <td>3</td>\n",
              "      <td>56.95</td>\n",
              "      <td>1889.50</td>\n",
              "      <td>1</td>\n",
              "      <td>0</td>\n",
              "      <td>0</td>\n",
              "    </tr>\n",
              "    <tr>\n",
              "      <th>2</th>\n",
              "      <td>2563</td>\n",
              "      <td>2</td>\n",
              "      <td>0</td>\n",
              "      <td>3</td>\n",
              "      <td>53.85</td>\n",
              "      <td>108.15</td>\n",
              "      <td>1</td>\n",
              "      <td>1</td>\n",
              "      <td>1</td>\n",
              "    </tr>\n",
              "    <tr>\n",
              "      <th>3</th>\n",
              "      <td>5534</td>\n",
              "      <td>45</td>\n",
              "      <td>1</td>\n",
              "      <td>0</td>\n",
              "      <td>42.30</td>\n",
              "      <td>1840.75</td>\n",
              "      <td>0</td>\n",
              "      <td>0</td>\n",
              "      <td>0</td>\n",
              "    </tr>\n",
              "    <tr>\n",
              "      <th>4</th>\n",
              "      <td>6510</td>\n",
              "      <td>2</td>\n",
              "      <td>0</td>\n",
              "      <td>2</td>\n",
              "      <td>70.70</td>\n",
              "      <td>151.65</td>\n",
              "      <td>1</td>\n",
              "      <td>1</td>\n",
              "      <td>1</td>\n",
              "    </tr>\n",
              "  </tbody>\n",
              "</table>\n",
              "</div>"
            ],
            "text/plain": [
              "   customerID  tenure  Contract  ...  PhoneServices  PaperlessBillings  Churns\n",
              "0        5374       1         0  ...              0                  1       0\n",
              "1        3961      34         1  ...              1                  0       0\n",
              "2        2563       2         0  ...              1                  1       1\n",
              "3        5534      45         1  ...              0                  0       0\n",
              "4        6510       2         0  ...              1                  1       1\n",
              "\n",
              "[5 rows x 9 columns]"
            ]
          },
          "metadata": {
            "tags": []
          },
          "execution_count": 170
        }
      ]
    },
    {
      "cell_type": "code",
      "metadata": {
        "id": "G00Qw-zwwGgc",
        "colab_type": "code",
        "outputId": "d67b8dc2-9625-4ee8-d8be-dcae68a59f03",
        "colab": {
          "base_uri": "https://localhost:8080/",
          "height": 204
        }
      },
      "source": [
        "churn=churn_data3\n",
        "churn.head()"
      ],
      "execution_count": 0,
      "outputs": [
        {
          "output_type": "execute_result",
          "data": {
            "text/html": [
              "<div>\n",
              "<style scoped>\n",
              "    .dataframe tbody tr th:only-of-type {\n",
              "        vertical-align: middle;\n",
              "    }\n",
              "\n",
              "    .dataframe tbody tr th {\n",
              "        vertical-align: top;\n",
              "    }\n",
              "\n",
              "    .dataframe thead th {\n",
              "        text-align: right;\n",
              "    }\n",
              "</style>\n",
              "<table border=\"1\" class=\"dataframe\">\n",
              "  <thead>\n",
              "    <tr style=\"text-align: right;\">\n",
              "      <th></th>\n",
              "      <th>customerID</th>\n",
              "      <th>tenure</th>\n",
              "      <th>Contract</th>\n",
              "      <th>PaymentMethod</th>\n",
              "      <th>MonthlyCharges</th>\n",
              "      <th>TotalCharges</th>\n",
              "      <th>PhoneServices</th>\n",
              "      <th>PaperlessBillings</th>\n",
              "      <th>Churns</th>\n",
              "    </tr>\n",
              "  </thead>\n",
              "  <tbody>\n",
              "    <tr>\n",
              "      <th>0</th>\n",
              "      <td>5374</td>\n",
              "      <td>1</td>\n",
              "      <td>0</td>\n",
              "      <td>2</td>\n",
              "      <td>29.85</td>\n",
              "      <td>29.85</td>\n",
              "      <td>0</td>\n",
              "      <td>1</td>\n",
              "      <td>0</td>\n",
              "    </tr>\n",
              "    <tr>\n",
              "      <th>1</th>\n",
              "      <td>3961</td>\n",
              "      <td>34</td>\n",
              "      <td>1</td>\n",
              "      <td>3</td>\n",
              "      <td>56.95</td>\n",
              "      <td>1889.50</td>\n",
              "      <td>1</td>\n",
              "      <td>0</td>\n",
              "      <td>0</td>\n",
              "    </tr>\n",
              "    <tr>\n",
              "      <th>2</th>\n",
              "      <td>2563</td>\n",
              "      <td>2</td>\n",
              "      <td>0</td>\n",
              "      <td>3</td>\n",
              "      <td>53.85</td>\n",
              "      <td>108.15</td>\n",
              "      <td>1</td>\n",
              "      <td>1</td>\n",
              "      <td>1</td>\n",
              "    </tr>\n",
              "    <tr>\n",
              "      <th>3</th>\n",
              "      <td>5534</td>\n",
              "      <td>45</td>\n",
              "      <td>1</td>\n",
              "      <td>0</td>\n",
              "      <td>42.30</td>\n",
              "      <td>1840.75</td>\n",
              "      <td>0</td>\n",
              "      <td>0</td>\n",
              "      <td>0</td>\n",
              "    </tr>\n",
              "    <tr>\n",
              "      <th>4</th>\n",
              "      <td>6510</td>\n",
              "      <td>2</td>\n",
              "      <td>0</td>\n",
              "      <td>2</td>\n",
              "      <td>70.70</td>\n",
              "      <td>151.65</td>\n",
              "      <td>1</td>\n",
              "      <td>1</td>\n",
              "      <td>1</td>\n",
              "    </tr>\n",
              "  </tbody>\n",
              "</table>\n",
              "</div>"
            ],
            "text/plain": [
              "   customerID  tenure  Contract  ...  PhoneServices  PaperlessBillings  Churns\n",
              "0        5374       1         0  ...              0                  1       0\n",
              "1        3961      34         1  ...              1                  0       0\n",
              "2        2563       2         0  ...              1                  1       1\n",
              "3        5534      45         1  ...              0                  0       0\n",
              "4        6510       2         0  ...              1                  1       1\n",
              "\n",
              "[5 rows x 9 columns]"
            ]
          },
          "metadata": {
            "tags": []
          },
          "execution_count": 171
        }
      ]
    },
    {
      "cell_type": "code",
      "metadata": {
        "id": "RP4ytlzcwoLw",
        "colab_type": "code",
        "outputId": "031fbd04-4b5e-461e-9012-c00c8d012d4f",
        "colab": {
          "base_uri": "https://localhost:8080/",
          "height": 296
        }
      },
      "source": [
        "#To make sure that it's a binary variable, let's use Seaborn's countplot() function.\n",
        "# \n",
        "sb.countplot(x='Churns',data=churn, palette='hls')"
      ],
      "execution_count": 0,
      "outputs": [
        {
          "output_type": "execute_result",
          "data": {
            "text/plain": [
              "<matplotlib.axes._subplots.AxesSubplot at 0x7fdef863b908>"
            ]
          },
          "metadata": {
            "tags": []
          },
          "execution_count": 173
        },
        {
          "output_type": "display_data",
          "data": {
            "image/png": "[encoded data removed]",
            "text/plain": [
              "<Figure size 432x288 with 1 Axes>"
            ]
          },
          "metadata": {
            "tags": [],
            "needs_background": "light"
          }
        }
      ]
    },
    {
      "cell_type": "code",
      "metadata": {
        "id": "0Mx4DAWww7Ni",
        "colab_type": "code",
        "outputId": "5f123641-073b-47a8-daa8-99e9462a6a5a",
        "colab": {
          "base_uri": "https://localhost:8080/",
          "height": 360
        }
      },
      "source": [
        "# Checking for independence between features¶\n",
        "sb.heatmap(churn.corr())"
      ],
      "execution_count": 0,
      "outputs": [
        {
          "output_type": "execute_result",
          "data": {
            "text/plain": [
              "<matplotlib.axes._subplots.AxesSubplot at 0x7fdef87ae978>"
            ]
          },
          "metadata": {
            "tags": []
          },
          "execution_count": 174
        },
        {
          "output_type": "display_data",
          "data": {
            "image/png": "[encoded data removed]",
            "text/plain": [
              "<Figure size 432x288 with 2 Axes>"
            ]
          },
          "metadata": {
            "tags": [],
            "needs_background": "light"
          }
        }
      ]
    },
    {
      "cell_type": "code",
      "metadata": {
        "id": "DGkbTbSIxOba",
        "colab_type": "code",
        "outputId": "5edf36c0-0208-4120-d9ae-e3edd61af117",
        "colab": {
          "base_uri": "https://localhost:8080/",
          "height": 187
        }
      },
      "source": [
        "churn.isna().sum()"
      ],
      "execution_count": 0,
      "outputs": [
        {
          "output_type": "execute_result",
          "data": {
            "text/plain": [
              "customerID            0\n",
              "tenure                0\n",
              "Contract              0\n",
              "PaymentMethod         0\n",
              "MonthlyCharges        0\n",
              "TotalCharges         11\n",
              "PhoneServices         0\n",
              "PaperlessBillings     0\n",
              "Churns                0\n",
              "dtype: int64"
            ]
          },
          "metadata": {
            "tags": []
          },
          "execution_count": 175
        }
      ]
    },
    {
      "cell_type": "code",
      "metadata": {
        "id": "sM1tIbxhxYE6",
        "colab_type": "code",
        "colab": {}
      },
      "source": [
        "churn.dropna(inplace=True,axis=0)"
      ],
      "execution_count": 0,
      "outputs": []
    },
    {
      "cell_type": "code",
      "metadata": {
        "id": "GLCy0KJcxwPB",
        "colab_type": "code",
        "outputId": "f877bc94-1d1e-45ac-fae8-6e3a381d156b",
        "colab": {
          "base_uri": "https://localhost:8080/",
          "height": 187
        }
      },
      "source": [
        "churn.isna().sum()"
      ],
      "execution_count": 0,
      "outputs": [
        {
          "output_type": "execute_result",
          "data": {
            "text/plain": [
              "customerID           0\n",
              "tenure               0\n",
              "Contract             0\n",
              "PaymentMethod        0\n",
              "MonthlyCharges       0\n",
              "TotalCharges         0\n",
              "PhoneServices        0\n",
              "PaperlessBillings    0\n",
              "Churns               0\n",
              "dtype: int64"
            ]
          },
          "metadata": {
            "tags": []
          },
          "execution_count": 177
        }
      ]
    },
    {
      "cell_type": "code",
      "metadata": {
        "id": "y1xZp39dyxUZ",
        "colab_type": "code",
        "outputId": "7372d429-2fc7-42aa-f64f-0fe53d4ded2f",
        "colab": {
          "base_uri": "https://localhost:8080/",
          "height": 289
        }
      },
      "source": [
        "#previewing basic information\n",
        "churn.info()"
      ],
      "execution_count": 0,
      "outputs": [
        {
          "output_type": "stream",
          "text": [
            "<class 'pandas.core.frame.DataFrame'>\n",
            "Int64Index: 7031 entries, 0 to 7041\n",
            "Data columns (total 9 columns):\n",
            " #   Column             Non-Null Count  Dtype  \n",
            "---  ------             --------------  -----  \n",
            " 0   customerID         7031 non-null   int64  \n",
            " 1   tenure             7031 non-null   int64  \n",
            " 2   Contract           7031 non-null   int64  \n",
            " 3   PaymentMethod      7031 non-null   int64  \n",
            " 4   MonthlyCharges     7031 non-null   float64\n",
            " 5   TotalCharges       7031 non-null   float64\n",
            " 6   PhoneServices      7031 non-null   uint8  \n",
            " 7   PaperlessBillings  7031 non-null   uint8  \n",
            " 8   Churns             7031 non-null   uint8  \n",
            "dtypes: float64(2), int64(4), uint8(3)\n",
            "memory usage: 405.1 KB\n"
          ],
          "name": "stdout"
        }
      ]
    },
    {
      "cell_type": "code",
      "metadata": {
        "id": "LNX8vS-1yHff",
        "colab_type": "code",
        "outputId": "086e9a39-4ffc-4253-8d60-3f19e81b4379",
        "colab": {
          "base_uri": "https://localhost:8080/",
          "height": 34
        }
      },
      "source": [
        "#selecting the dependent and independent variables\n",
        "#independent variables \n",
        "X=churn.drop('Churns',axis=1)\n",
        "#dependent variables\n",
        "y=churn['Churns']\n",
        "print(\"The shape of X is:\",{X.shape},\"and the shape of y is:\",{y.shape})"
      ],
      "execution_count": 0,
      "outputs": [
        {
          "output_type": "stream",
          "text": [
            "The shape of X is: {(7031, 8)} and the shape of y is: {(7031,)}\n"
          ],
          "name": "stdout"
        }
      ]
    },
    {
      "cell_type": "code",
      "metadata": {
        "id": "CXW-xUNqzEmY",
        "colab_type": "code",
        "colab": {}
      },
      "source": [
        "#library for spliting data\n",
        "from sklearn.model_selection import train_test_split\n",
        "#specifying X, Y test and train data sizes\n",
        "X_train, X_test, y_train, y_test = train_test_split(X, y, test_size = .3, random_state=25)"
      ],
      "execution_count": 0,
      "outputs": []
    },
    {
      "cell_type": "code",
      "metadata": {
        "id": "PflySMGKzl_J",
        "colab_type": "code",
        "colab": {}
      },
      "source": [
        "# Creating the logistic regression\n",
        "logistic = linear_model.LogisticRegression(C=166.81005372000593, class_weight=None, dual=False, fit_intercept=True,\n",
        "                   intercept_scaling=1, l1_ratio=None, max_iter=10000,\n",
        "                   multi_class='auto', n_jobs=None, penalty='l2',\n",
        "                   random_state=None, solver='lbfgs', tol=0.0001, verbose=0,\n",
        "                   warm_start=False)"
      ],
      "execution_count": 0,
      "outputs": []
    },
    {
      "cell_type": "code",
      "metadata": {
        "id": "qNF-0HrpzvXE",
        "colab_type": "code",
        "colab": {}
      },
      "source": [
        "# Creating regularization penalty space\n",
        "penalty = ['l2']#l1 not supported\n",
        "\n",
        "# Creating regularization hyperparameter space\n",
        "C = np.logspace(0, 4, 10)\n",
        "\n",
        "# Creating hyperparameter options\n",
        "hyperparameters = dict(C=C, penalty=penalty)"
      ],
      "execution_count": 0,
      "outputs": []
    },
    {
      "cell_type": "code",
      "metadata": {
        "id": "c_TnCh_s0Bmx",
        "colab_type": "code",
        "colab": {}
      },
      "source": [
        "# Creating grid search using 5-fold cross validation\n",
        "clf = GridSearchCV(logistic, hyperparameters, cv=5, verbose=0)"
      ],
      "execution_count": 0,
      "outputs": []
    },
    {
      "cell_type": "code",
      "metadata": {
        "id": "3STKdyYI0KHZ",
        "colab_type": "code",
        "colab": {}
      },
      "source": [
        "# Fitting grid search\n",
        "best_model = clf.fit(X, y)"
      ],
      "execution_count": 0,
      "outputs": []
    },
    {
      "cell_type": "code",
      "metadata": {
        "id": "G5jW28eZ0eHc",
        "colab_type": "code",
        "outputId": "c2f66dcc-ac3f-4d3a-a8f9-342758f145ac",
        "colab": {
          "base_uri": "https://localhost:8080/",
          "height": 51
        }
      },
      "source": [
        "# Viewing best hyperparameters\n",
        "print('Best Penalty:', best_model.best_estimator_.get_params()['penalty'])\n",
        "print('Best C:', best_model.best_estimator_.get_params()['C'])"
      ],
      "execution_count": 0,
      "outputs": [
        {
          "output_type": "stream",
          "text": [
            "Best Penalty: l2\n",
            "Best C: 166.81005372000593\n"
          ],
          "name": "stdout"
        }
      ]
    },
    {
      "cell_type": "code",
      "metadata": {
        "id": "ZvOK6i7c0pLa",
        "colab_type": "code",
        "outputId": "b9a76417-8cc3-4456-ca0b-61c552fbcf78",
        "colab": {
          "base_uri": "https://localhost:8080/",
          "height": 34
        }
      },
      "source": [
        "# Predicting target vector\n",
        "best_model.predict(X)"
      ],
      "execution_count": 0,
      "outputs": [
        {
          "output_type": "execute_result",
          "data": {
            "text/plain": [
              "array([1, 0, 1, ..., 0, 0, 1], dtype=uint8)"
            ]
          },
          "metadata": {
            "tags": []
          },
          "execution_count": 209
        }
      ]
    },
    {
      "cell_type": "code",
      "metadata": {
        "id": "9GeZgE2P2p2c",
        "colab_type": "code",
        "colab": {}
      },
      "source": [
        "# Using our model to make a prediction\n",
        "#\n",
        "y_pred = best_model.predict(X_test)"
      ],
      "execution_count": 0,
      "outputs": []
    },
    {
      "cell_type": "code",
      "metadata": {
        "id": "W7EBTuvN01GC",
        "colab_type": "code",
        "outputId": "e0bf39c3-8b0b-4c91-80bc-1cd5e396c401",
        "colab": {
          "base_uri": "https://localhost:8080/",
          "height": 51
        }
      },
      "source": [
        "# Evaluating the model\n",
        "#\n",
        "from sklearn.metrics import confusion_matrix\n",
        "confusion_matrix = confusion_matrix(y_test, y_pred)\n",
        "confusion_matrix\n",
        "\n",
        "# The results from the confusion matrix tell us that 17 and 9 are the number of correct predictions. \n",
        "# 2 and 2 are the number of incorrect predictions."
      ],
      "execution_count": 0,
      "outputs": [
        {
          "output_type": "execute_result",
          "data": {
            "text/plain": [
              "array([[1384,  175],\n",
              "       [ 270,  281]])"
            ]
          },
          "metadata": {
            "tags": []
          },
          "execution_count": 211
        }
      ]
    }
  ]
}