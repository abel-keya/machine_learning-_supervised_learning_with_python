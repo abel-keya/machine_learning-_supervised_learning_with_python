{
  "nbformat": 4,
  "nbformat_minor": 0,
  "metadata": {
    "colab": {
      "name": "Grid Search_HyperParameterTuningDataset",
      "provenance": [],
      "collapsed_sections": [
        "k6mu0__7OjF8",
        "LoZYTKzdNPw1"
      ],
      "include_colab_link": true
    },
    "kernelspec": {
      "name": "python3",
      "display_name": "Python 3"
    }
  },
  "cells": [
    {
      "cell_type": "markdown",
      "metadata": {
        "id": "view-in-github",
        "colab_type": "text"
      },
      "source": [
        "<a href=\"https://colab.research.google.com/github/abel-keya/machine_learning-_supervised_learning_with_python/blob/master/Grid_Search_HyperParameterTuningDataset.ipynb\" target=\"_parent\"><img src=\"https://colab.research.google.com/assets/colab-badge.svg\" alt=\"Open In Colab\"/></a>"
      ]
    },
    {
      "cell_type": "markdown",
      "metadata": {
        "id": "X5ma2Mw6_6Dt",
        "colab_type": "text"
      },
      "source": [
        "# Python Programming: Grid Search"
      ]
    },
    {
      "cell_type": "markdown",
      "metadata": {
        "id": "k6mu0__7OjF8",
        "colab_type": "text"
      },
      "source": [
        "## Example"
      ]
    },
    {
      "cell_type": "code",
      "metadata": {
        "id": "tftAsaCN_xbw",
        "colab_type": "code",
        "colab": {}
      },
      "source": [
        "## Example 1\n",
        "# ---\n",
        "# Perform hyperparameter tuning then predict the quality of wine using Grid Search. \n",
        "# ---\n",
        "# Dataset url = http://bit.ly/TuningDataset\n",
        "# ---\n",
        "# OUR CODE GOES BELOW "
      ],
      "execution_count": 0,
      "outputs": []
    },
    {
      "cell_type": "code",
      "metadata": {
        "id": "bnvF1TbuBFSP",
        "colab_type": "code",
        "colab": {}
      },
      "source": [
        "# Importing the required libraries\n",
        "# ---\n",
        "#\n",
        "import pandas as pd\n",
        "import numpy as np"
      ],
      "execution_count": 0,
      "outputs": []
    },
    {
      "cell_type": "code",
      "metadata": {
        "id": "6io-7e6WAaLU",
        "colab_type": "code",
        "colab": {}
      },
      "source": [
        "# Importing our Dataset\n",
        "# ---\n",
        "#\n",
        "dataset = pd.read_csv(\"http://bit.ly/TuningDataset\", sep=';')"
      ],
      "execution_count": 0,
      "outputs": []
    },
    {
      "cell_type": "code",
      "metadata": {
        "id": "fprG-77uCN81",
        "colab_type": "code",
        "outputId": "07c46261-90b4-48e0-b424-2ffe015a75c7",
        "colab": {
          "base_uri": "https://localhost:8080/",
          "height": 238
        }
      },
      "source": [
        "# Previewing our Dataset\n",
        "# ---\n",
        "#\n",
        "dataset.head()"
      ],
      "execution_count": 73,
      "outputs": [
        {
          "output_type": "execute_result",
          "data": {
            "text/html": [
              "<div>\n",
              "<style scoped>\n",
              "    .dataframe tbody tr th:only-of-type {\n",
              "        vertical-align: middle;\n",
              "    }\n",
              "\n",
              "    .dataframe tbody tr th {\n",
              "        vertical-align: top;\n",
              "    }\n",
              "\n",
              "    .dataframe thead th {\n",
              "        text-align: right;\n",
              "    }\n",
              "</style>\n",
              "<table border=\"1\" class=\"dataframe\">\n",
              "  <thead>\n",
              "    <tr style=\"text-align: right;\">\n",
              "      <th></th>\n",
              "      <th>fixed acidity</th>\n",
              "      <th>volatile acidity</th>\n",
              "      <th>citric acid</th>\n",
              "      <th>residual sugar</th>\n",
              "      <th>chlorides</th>\n",
              "      <th>free sulfur dioxide</th>\n",
              "      <th>total sulfur dioxide</th>\n",
              "      <th>density</th>\n",
              "      <th>pH</th>\n",
              "      <th>sulphates</th>\n",
              "      <th>alcohol</th>\n",
              "      <th>quality</th>\n",
              "    </tr>\n",
              "  </thead>\n",
              "  <tbody>\n",
              "    <tr>\n",
              "      <th>0</th>\n",
              "      <td>7.4</td>\n",
              "      <td>0.70</td>\n",
              "      <td>0.00</td>\n",
              "      <td>1.9</td>\n",
              "      <td>0.076</td>\n",
              "      <td>11.0</td>\n",
              "      <td>34.0</td>\n",
              "      <td>0.9978</td>\n",
              "      <td>3.51</td>\n",
              "      <td>0.56</td>\n",
              "      <td>9.4</td>\n",
              "      <td>5</td>\n",
              "    </tr>\n",
              "    <tr>\n",
              "      <th>1</th>\n",
              "      <td>7.8</td>\n",
              "      <td>0.88</td>\n",
              "      <td>0.00</td>\n",
              "      <td>2.6</td>\n",
              "      <td>0.098</td>\n",
              "      <td>25.0</td>\n",
              "      <td>67.0</td>\n",
              "      <td>0.9968</td>\n",
              "      <td>3.20</td>\n",
              "      <td>0.68</td>\n",
              "      <td>9.8</td>\n",
              "      <td>5</td>\n",
              "    </tr>\n",
              "    <tr>\n",
              "      <th>2</th>\n",
              "      <td>7.8</td>\n",
              "      <td>0.76</td>\n",
              "      <td>0.04</td>\n",
              "      <td>2.3</td>\n",
              "      <td>0.092</td>\n",
              "      <td>15.0</td>\n",
              "      <td>54.0</td>\n",
              "      <td>0.9970</td>\n",
              "      <td>3.26</td>\n",
              "      <td>0.65</td>\n",
              "      <td>9.8</td>\n",
              "      <td>5</td>\n",
              "    </tr>\n",
              "    <tr>\n",
              "      <th>3</th>\n",
              "      <td>11.2</td>\n",
              "      <td>0.28</td>\n",
              "      <td>0.56</td>\n",
              "      <td>1.9</td>\n",
              "      <td>0.075</td>\n",
              "      <td>17.0</td>\n",
              "      <td>60.0</td>\n",
              "      <td>0.9980</td>\n",
              "      <td>3.16</td>\n",
              "      <td>0.58</td>\n",
              "      <td>9.8</td>\n",
              "      <td>6</td>\n",
              "    </tr>\n",
              "    <tr>\n",
              "      <th>4</th>\n",
              "      <td>7.4</td>\n",
              "      <td>0.70</td>\n",
              "      <td>0.00</td>\n",
              "      <td>1.9</td>\n",
              "      <td>0.076</td>\n",
              "      <td>11.0</td>\n",
              "      <td>34.0</td>\n",
              "      <td>0.9978</td>\n",
              "      <td>3.51</td>\n",
              "      <td>0.56</td>\n",
              "      <td>9.4</td>\n",
              "      <td>5</td>\n",
              "    </tr>\n",
              "  </tbody>\n",
              "</table>\n",
              "</div>"
            ],
            "text/plain": [
              "   fixed acidity  volatile acidity  citric acid  ...  sulphates  alcohol  quality\n",
              "0            7.4              0.70         0.00  ...       0.56      9.4        5\n",
              "1            7.8              0.88         0.00  ...       0.68      9.8        5\n",
              "2            7.8              0.76         0.04  ...       0.65      9.8        5\n",
              "3           11.2              0.28         0.56  ...       0.58      9.8        6\n",
              "4            7.4              0.70         0.00  ...       0.56      9.4        5\n",
              "\n",
              "[5 rows x 12 columns]"
            ]
          },
          "metadata": {
            "tags": []
          },
          "execution_count": 73
        }
      ]
    },
    {
      "cell_type": "code",
      "metadata": {
        "id": "85-ZhbKfCQNu",
        "colab_type": "code",
        "colab": {}
      },
      "source": [
        "# Performing Data Preprocessing\n",
        "# ---\n",
        "# \n",
        "X = dataset.iloc[:, 0:11].values\n",
        "y = dataset.iloc[:, 11].values"
      ],
      "execution_count": 0,
      "outputs": []
    },
    {
      "cell_type": "code",
      "metadata": {
        "id": "HRYfL5brDIMI",
        "colab_type": "code",
        "colab": {}
      },
      "source": [
        "# Performing Data Preprocessing\n",
        "# ---\n",
        "# \n",
        "from sklearn.model_selection import train_test_split\n",
        "X_train, X_test, y_train, y_test = train_test_split(X, y)"
      ],
      "execution_count": 0,
      "outputs": []
    },
    {
      "cell_type": "code",
      "metadata": {
        "id": "JfNu9GniC6TL",
        "colab_type": "code",
        "colab": {}
      },
      "source": [
        "# Scaling our Data\n",
        "# \n",
        "from sklearn.preprocessing import StandardScaler\n",
        "feature_scaler = StandardScaler()\n",
        "X_train = feature_scaler.fit_transform(X_train)\n",
        "X_test = feature_scaler.transform(X_test)"
      ],
      "execution_count": 0,
      "outputs": []
    },
    {
      "cell_type": "code",
      "metadata": {
        "id": "jQbqNGppIwCD",
        "colab_type": "code",
        "colab": {}
      },
      "source": [
        "# Training and Cross Validation\n",
        "# ---\n",
        "# \n",
        "from sklearn.ensemble import RandomForestClassifier\n",
        "classifier = RandomForestClassifier(n_estimators=300, random_state=0)"
      ],
      "execution_count": 0,
      "outputs": []
    },
    {
      "cell_type": "code",
      "metadata": {
        "id": "qQz-BvHSJD1C",
        "colab_type": "code",
        "colab": {}
      },
      "source": [
        "# Training and Cross Validation\n",
        "# ---\n",
        "# Next, to implement cross validation, the cross_val_score method \n",
        "# of the sklearn.model_selection library can be used. \n",
        "# The cross_val_score returns the accuracy for all the folds. \n",
        "# Values for 4 parameters are required to be passed to the cross_val_score class. \n",
        "# The first parameter is estimator which basically specifies \n",
        "# the algorithm that you want to use for cross validation. \n",
        "# The second and third parameters, X and y, contain the X_train and y_train data i.e. features and labels. \n",
        "# Finally the number of folds is passed to the cv parameter as shown in the following code\n",
        "# ---\n",
        "# \n",
        "from sklearn.model_selection import cross_val_score\n",
        "all_accuracies = cross_val_score(estimator=classifier, X=X_train, y=y_train, cv=5)"
      ],
      "execution_count": 0,
      "outputs": []
    },
    {
      "cell_type": "code",
      "metadata": {
        "id": "g288wwhYJEcS",
        "colab_type": "code",
        "outputId": "e267eeee-d439-40f8-d01f-05f35364898a",
        "colab": {
          "base_uri": "https://localhost:8080/",
          "height": 34
        }
      },
      "source": [
        "# Printing the accuracies returned for five folds \n",
        "# by the cross_val_score method by calling print on all_accuracies\n",
        "# ---\n",
        "#\n",
        "print(all_accuracies.mean())"
      ],
      "execution_count": 79,
      "outputs": [
        {
          "output_type": "stream",
          "text": [
            "0.6847629009762901\n"
          ],
          "name": "stdout"
        }
      ]
    },
    {
      "cell_type": "code",
      "metadata": {
        "id": "CWXSIEBADSaw",
        "colab_type": "code",
        "colab": {}
      },
      "source": [
        "# Step 1: Hyperparameters: Getting Started with Grid Search\n",
        "# ---\n",
        "# We create a dictionary of all the parameters and their corresponding \n",
        "# set of values that you want to test for best performance. \n",
        "# The name of the dictionary items corresponds to the parameter name \n",
        "# and the value corresponds to the list of values for the parameter.\n",
        "# As shown grid_param dictionary with three parameters n_estimators, criterion, and bootstrap. \n",
        "# The parameter values that we want to try out are passed in the list. \n",
        "# For instance, in the above script we want to find which value \n",
        "# (out of 100, 300, 500, 800, and 1000) provides the highest accuracy. \n",
        "# Similarly, we want to find which value results in the \n",
        "# highest performance for the criterion parameter: \"gini\" or \"entropy\"? \n",
        "# The Grid Search algorithm basically tries all possible combinations \n",
        "# of parameter values and returns the combination with the highest accuracy. \n",
        "# For instance, in the above case the algorithm will check 20 combinations (5 x 2 x 2 = 20).\n",
        "# ---\n",
        "# \n",
        "grid_param = {\n",
        "    'n_estimators': [100, 300, 500, 800, 1000],\n",
        "    'criterion': ['gini', 'entropy'],\n",
        "    'bootstrap': [True, False]\n",
        "}"
      ],
      "execution_count": 0,
      "outputs": []
    },
    {
      "cell_type": "code",
      "metadata": {
        "id": "BP1h7wGzEFtq",
        "colab_type": "code",
        "colab": {}
      },
      "source": [
        "# Step 2: Instantiating GridSearchCV object\n",
        "# ---\n",
        "# Once the parameter dictionary is created, the next step \n",
        "# is to create an instance of the GridSearchCV class. \n",
        "# We need to pass values for the estimator parameter, \n",
        "# which basically is the algorithm that you want to execute. \n",
        "# The param_grid parameter takes the parameter dictionary \n",
        "# that we just created as parameter, the scoring parameter \n",
        "# takes the performance metrics, the cv parameter corresponds \n",
        "# to number of folds, which is 5 in our case, and finally \n",
        "# the n_jobs parameter refers to the number of CPU's that we want to use for execution. \n",
        "# A value of -1 for n_jobs parameter means that use all available computing power.\n",
        "# ---\n",
        "# \n",
        "from sklearn.model_selection import GridSearchCV\n",
        "gd_sr = GridSearchCV(estimator=classifier,\n",
        "                     param_grid=grid_param,\n",
        "                     scoring='accuracy',\n",
        "                     cv=5,\n",
        "                     n_jobs=-1)"
      ],
      "execution_count": 0,
      "outputs": []
    },
    {
      "cell_type": "code",
      "metadata": {
        "id": "4qdF_J2DHvEP",
        "colab_type": "code",
        "outputId": "a8038014-a080-4029-efdd-3265f41fdecd",
        "colab": {
          "base_uri": "https://localhost:8080/",
          "height": 374
        }
      },
      "source": [
        "# Step 3: Calling the fit method\n",
        "# ---\n",
        "# Once the GridSearchCV class is initialized, we call the fit method of the class \n",
        "# and pass it the training and test set, as shown in the following code.\n",
        "# The method might take abit of some time to execute. \n",
        "# This is the drawback - GridSearchCV will go through all the intermediate \n",
        "# combinations of hyperparameters which makes grid search computationally very expensive.\n",
        "# ---\n",
        "# \n",
        "gd_sr.fit(X_train, y_train)"
      ],
      "execution_count": 82,
      "outputs": [
        {
          "output_type": "execute_result",
          "data": {
            "text/plain": [
              "GridSearchCV(cv=5, error_score=nan,\n",
              "             estimator=RandomForestClassifier(bootstrap=True, ccp_alpha=0.0,\n",
              "                                              class_weight=None,\n",
              "                                              criterion='gini', max_depth=None,\n",
              "                                              max_features='auto',\n",
              "                                              max_leaf_nodes=None,\n",
              "                                              max_samples=None,\n",
              "                                              min_impurity_decrease=0.0,\n",
              "                                              min_impurity_split=None,\n",
              "                                              min_samples_leaf=1,\n",
              "                                              min_samples_split=2,\n",
              "                                              min_weight_fraction_leaf=0.0,\n",
              "                                              n_estimators=300, n_jobs=None,\n",
              "                                              oob_score=False, random_state=0,\n",
              "                                              verbose=0, warm_start=False),\n",
              "             iid='deprecated', n_jobs=-1,\n",
              "             param_grid={'bootstrap': [True, False],\n",
              "                         'criterion': ['gini', 'entropy'],\n",
              "                         'n_estimators': [100, 300, 500, 800, 1000]},\n",
              "             pre_dispatch='2*n_jobs', refit=True, return_train_score=False,\n",
              "             scoring='accuracy', verbose=0)"
            ]
          },
          "metadata": {
            "tags": []
          },
          "execution_count": 82
        }
      ]
    },
    {
      "cell_type": "code",
      "metadata": {
        "id": "Y4XzL4IYGh-8",
        "colab_type": "code",
        "colab": {
          "base_uri": "https://localhost:8080/",
          "height": 34
        },
        "outputId": "21c8fdd7-befc-432a-ab1c-a888917cfd56"
      },
      "source": [
        "# Step 4: Checking the parameters that return the highest accuracy\n",
        "# --- \n",
        "# To do so, we print the sr.best_params_ attribute of the GridSearchCV object, as shown below:\n",
        "# ---\n",
        "# \n",
        "best_parameters = gd_sr.best_params_\n",
        "print(best_parameters)\n",
        "\n",
        "# The result shows that the highest accuracy is achieved \n",
        "# when the n_estimators are 300, bootstrap is True and criterion is \"gini\". \n",
        "# It would be a good idea to add more number of estimators \n",
        "# and see if performance further increases since the highest \n",
        "# allowed value of n_estimators was chosen."
      ],
      "execution_count": 83,
      "outputs": [
        {
          "output_type": "stream",
          "text": [
            "{'bootstrap': True, 'criterion': 'gini', 'n_estimators': 800}\n"
          ],
          "name": "stdout"
        }
      ]
    },
    {
      "cell_type": "code",
      "metadata": {
        "id": "Tt0Nj8sDH7XT",
        "colab_type": "code",
        "colab": {
          "base_uri": "https://localhost:8080/",
          "height": 34
        },
        "outputId": "066f648d-b20f-409b-c7c8-2feb1197bba8"
      },
      "source": [
        "# Step 5: Finding the obtained accuracy\n",
        "# ---\n",
        "# The last and final step of Grid Search algorithm is \n",
        "# to find the accuracy obtained using the best parameters. \n",
        "# Previously we had a mean accuracy of 64.22%.\n",
        "# To find the best accuracy achieved, we execute the following code:\n",
        "# ---\n",
        "# \n",
        "best_result = gd_sr.best_score_\n",
        "print(best_result)\n",
        "\n",
        "# The accuracy achieved is: 0.6505 of 65.05% which is only slightly better than 64.22%. \n",
        "# To improve this further, it would be good to test values for other parameters \n",
        "# of Random Forest algorithm, such as max_features, max_depth, max_leaf_nodes, etc. \n",
        "# to see if the accuracy further improves or not."
      ],
      "execution_count": 84,
      "outputs": [
        {
          "output_type": "stream",
          "text": [
            "0.6931066945606694\n"
          ],
          "name": "stdout"
        }
      ]
    },
    {
      "cell_type": "markdown",
      "metadata": {
        "id": "LoZYTKzdNPw1",
        "colab_type": "text"
      },
      "source": [
        "## <font color=\"green\">Challenges</font>"
      ]
    },
    {
      "cell_type": "code",
      "metadata": {
        "id": "a2Fn-tSkKeWl",
        "colab_type": "code",
        "colab": {
          "base_uri": "https://localhost:8080/",
          "height": 606
        },
        "outputId": "d0af67a5-ad16-41d5-e2e6-a2c5e2274fad"
      },
      "source": [
        "## Challenge 1\n",
        "# ---\n",
        "# Question: Implement hyperparameter tuning upon creating a model to classify \n",
        "# incomes of persons given the following dataset.\n",
        "# ---\n",
        "# Dataset url = http://bit.ly/HyperParameterTuningDataset\n",
        "# ---\n",
        "income=pd.read_csv('http://bit.ly/HyperParameterTuningDataset',index_col =None )\n",
        "income\n",
        "#"
      ],
      "execution_count": 85,
      "outputs": [
        {
          "output_type": "execute_result",
          "data": {
            "text/html": [
              "<div>\n",
              "<style scoped>\n",
              "    .dataframe tbody tr th:only-of-type {\n",
              "        vertical-align: middle;\n",
              "    }\n",
              "\n",
              "    .dataframe tbody tr th {\n",
              "        vertical-align: top;\n",
              "    }\n",
              "\n",
              "    .dataframe thead th {\n",
              "        text-align: right;\n",
              "    }\n",
              "</style>\n",
              "<table border=\"1\" class=\"dataframe\">\n",
              "  <thead>\n",
              "    <tr style=\"text-align: right;\">\n",
              "      <th></th>\n",
              "      <th>39</th>\n",
              "      <th>State-gov</th>\n",
              "      <th>Bachelors</th>\n",
              "      <th>13</th>\n",
              "      <th>Never-married</th>\n",
              "      <th>Adm-clerical</th>\n",
              "      <th>Not-in-family</th>\n",
              "      <th>White</th>\n",
              "      <th>Male</th>\n",
              "      <th>2174</th>\n",
              "      <th>0</th>\n",
              "      <th>40</th>\n",
              "      <th>United-States</th>\n",
              "      <th>&lt;=50K</th>\n",
              "    </tr>\n",
              "  </thead>\n",
              "  <tbody>\n",
              "    <tr>\n",
              "      <th>0</th>\n",
              "      <td>50</td>\n",
              "      <td>Self-emp-not-inc</td>\n",
              "      <td>Bachelors</td>\n",
              "      <td>13</td>\n",
              "      <td>Married-civ-spouse</td>\n",
              "      <td>Exec-managerial</td>\n",
              "      <td>Husband</td>\n",
              "      <td>White</td>\n",
              "      <td>Male</td>\n",
              "      <td>0</td>\n",
              "      <td>0</td>\n",
              "      <td>13</td>\n",
              "      <td>United-States</td>\n",
              "      <td>&lt;=50K</td>\n",
              "    </tr>\n",
              "    <tr>\n",
              "      <th>1</th>\n",
              "      <td>38</td>\n",
              "      <td>Private</td>\n",
              "      <td>HS-grad</td>\n",
              "      <td>9</td>\n",
              "      <td>Divorced</td>\n",
              "      <td>Handlers-cleaners</td>\n",
              "      <td>Not-in-family</td>\n",
              "      <td>White</td>\n",
              "      <td>Male</td>\n",
              "      <td>0</td>\n",
              "      <td>0</td>\n",
              "      <td>40</td>\n",
              "      <td>United-States</td>\n",
              "      <td>&lt;=50K</td>\n",
              "    </tr>\n",
              "    <tr>\n",
              "      <th>2</th>\n",
              "      <td>53</td>\n",
              "      <td>Private</td>\n",
              "      <td>11th</td>\n",
              "      <td>7</td>\n",
              "      <td>Married-civ-spouse</td>\n",
              "      <td>Handlers-cleaners</td>\n",
              "      <td>Husband</td>\n",
              "      <td>Black</td>\n",
              "      <td>Male</td>\n",
              "      <td>0</td>\n",
              "      <td>0</td>\n",
              "      <td>40</td>\n",
              "      <td>United-States</td>\n",
              "      <td>&lt;=50K</td>\n",
              "    </tr>\n",
              "    <tr>\n",
              "      <th>3</th>\n",
              "      <td>28</td>\n",
              "      <td>Private</td>\n",
              "      <td>Bachelors</td>\n",
              "      <td>13</td>\n",
              "      <td>Married-civ-spouse</td>\n",
              "      <td>Prof-specialty</td>\n",
              "      <td>Wife</td>\n",
              "      <td>Black</td>\n",
              "      <td>Female</td>\n",
              "      <td>0</td>\n",
              "      <td>0</td>\n",
              "      <td>40</td>\n",
              "      <td>Cuba</td>\n",
              "      <td>&lt;=50K</td>\n",
              "    </tr>\n",
              "    <tr>\n",
              "      <th>4</th>\n",
              "      <td>37</td>\n",
              "      <td>Private</td>\n",
              "      <td>Masters</td>\n",
              "      <td>14</td>\n",
              "      <td>Married-civ-spouse</td>\n",
              "      <td>Exec-managerial</td>\n",
              "      <td>Wife</td>\n",
              "      <td>White</td>\n",
              "      <td>Female</td>\n",
              "      <td>0</td>\n",
              "      <td>0</td>\n",
              "      <td>40</td>\n",
              "      <td>United-States</td>\n",
              "      <td>&lt;=50K</td>\n",
              "    </tr>\n",
              "    <tr>\n",
              "      <th>...</th>\n",
              "      <td>...</td>\n",
              "      <td>...</td>\n",
              "      <td>...</td>\n",
              "      <td>...</td>\n",
              "      <td>...</td>\n",
              "      <td>...</td>\n",
              "      <td>...</td>\n",
              "      <td>...</td>\n",
              "      <td>...</td>\n",
              "      <td>...</td>\n",
              "      <td>...</td>\n",
              "      <td>...</td>\n",
              "      <td>...</td>\n",
              "      <td>...</td>\n",
              "    </tr>\n",
              "    <tr>\n",
              "      <th>32555</th>\n",
              "      <td>27</td>\n",
              "      <td>Private</td>\n",
              "      <td>Assoc-acdm</td>\n",
              "      <td>12</td>\n",
              "      <td>Married-civ-spouse</td>\n",
              "      <td>Tech-support</td>\n",
              "      <td>Wife</td>\n",
              "      <td>White</td>\n",
              "      <td>Female</td>\n",
              "      <td>0</td>\n",
              "      <td>0</td>\n",
              "      <td>38</td>\n",
              "      <td>United-States</td>\n",
              "      <td>&lt;=50K</td>\n",
              "    </tr>\n",
              "    <tr>\n",
              "      <th>32556</th>\n",
              "      <td>40</td>\n",
              "      <td>Private</td>\n",
              "      <td>HS-grad</td>\n",
              "      <td>9</td>\n",
              "      <td>Married-civ-spouse</td>\n",
              "      <td>Machine-op-inspct</td>\n",
              "      <td>Husband</td>\n",
              "      <td>White</td>\n",
              "      <td>Male</td>\n",
              "      <td>0</td>\n",
              "      <td>0</td>\n",
              "      <td>40</td>\n",
              "      <td>United-States</td>\n",
              "      <td>&gt;50K</td>\n",
              "    </tr>\n",
              "    <tr>\n",
              "      <th>32557</th>\n",
              "      <td>58</td>\n",
              "      <td>Private</td>\n",
              "      <td>HS-grad</td>\n",
              "      <td>9</td>\n",
              "      <td>Widowed</td>\n",
              "      <td>Adm-clerical</td>\n",
              "      <td>Unmarried</td>\n",
              "      <td>White</td>\n",
              "      <td>Female</td>\n",
              "      <td>0</td>\n",
              "      <td>0</td>\n",
              "      <td>40</td>\n",
              "      <td>United-States</td>\n",
              "      <td>&lt;=50K</td>\n",
              "    </tr>\n",
              "    <tr>\n",
              "      <th>32558</th>\n",
              "      <td>22</td>\n",
              "      <td>Private</td>\n",
              "      <td>HS-grad</td>\n",
              "      <td>9</td>\n",
              "      <td>Never-married</td>\n",
              "      <td>Adm-clerical</td>\n",
              "      <td>Own-child</td>\n",
              "      <td>White</td>\n",
              "      <td>Male</td>\n",
              "      <td>0</td>\n",
              "      <td>0</td>\n",
              "      <td>20</td>\n",
              "      <td>United-States</td>\n",
              "      <td>&lt;=50K</td>\n",
              "    </tr>\n",
              "    <tr>\n",
              "      <th>32559</th>\n",
              "      <td>52</td>\n",
              "      <td>Self-emp-inc</td>\n",
              "      <td>HS-grad</td>\n",
              "      <td>9</td>\n",
              "      <td>Married-civ-spouse</td>\n",
              "      <td>Exec-managerial</td>\n",
              "      <td>Wife</td>\n",
              "      <td>White</td>\n",
              "      <td>Female</td>\n",
              "      <td>15024</td>\n",
              "      <td>0</td>\n",
              "      <td>40</td>\n",
              "      <td>United-States</td>\n",
              "      <td>&gt;50K</td>\n",
              "    </tr>\n",
              "  </tbody>\n",
              "</table>\n",
              "<p>32560 rows × 14 columns</p>\n",
              "</div>"
            ],
            "text/plain": [
              "       39          State-gov    Bachelors  13  ...  0  40   United-States   <=50K\n",
              "0      50   Self-emp-not-inc    Bachelors  13  ...  0  13   United-States   <=50K\n",
              "1      38            Private      HS-grad   9  ...  0  40   United-States   <=50K\n",
              "2      53            Private         11th   7  ...  0  40   United-States   <=50K\n",
              "3      28            Private    Bachelors  13  ...  0  40            Cuba   <=50K\n",
              "4      37            Private      Masters  14  ...  0  40   United-States   <=50K\n",
              "...    ..                ...          ...  ..  ... ..  ..             ...     ...\n",
              "32555  27            Private   Assoc-acdm  12  ...  0  38   United-States   <=50K\n",
              "32556  40            Private      HS-grad   9  ...  0  40   United-States    >50K\n",
              "32557  58            Private      HS-grad   9  ...  0  40   United-States   <=50K\n",
              "32558  22            Private      HS-grad   9  ...  0  20   United-States   <=50K\n",
              "32559  52       Self-emp-inc      HS-grad   9  ...  0  40   United-States    >50K\n",
              "\n",
              "[32560 rows x 14 columns]"
            ]
          },
          "metadata": {
            "tags": []
          },
          "execution_count": 85
        }
      ]
    },
    {
      "cell_type": "code",
      "metadata": {
        "id": "taE61eEHxhq8",
        "colab_type": "code",
        "colab": {
          "base_uri": "https://localhost:8080/",
          "height": 419
        },
        "outputId": "4ea66498-e1d8-4a97-d6ad-aef4813be994"
      },
      "source": [
        "#leading the clean dataset\n",
        "income=pd.read_csv('income_clean.csv',index_col=None)\n",
        "income"
      ],
      "execution_count": 86,
      "outputs": [
        {
          "output_type": "execute_result",
          "data": {
            "text/html": [
              "<div>\n",
              "<style scoped>\n",
              "    .dataframe tbody tr th:only-of-type {\n",
              "        vertical-align: middle;\n",
              "    }\n",
              "\n",
              "    .dataframe tbody tr th {\n",
              "        vertical-align: top;\n",
              "    }\n",
              "\n",
              "    .dataframe thead th {\n",
              "        text-align: right;\n",
              "    }\n",
              "</style>\n",
              "<table border=\"1\" class=\"dataframe\">\n",
              "  <thead>\n",
              "    <tr style=\"text-align: right;\">\n",
              "      <th></th>\n",
              "      <th>Unnamed: 0</th>\n",
              "      <th>id</th>\n",
              "      <th>employer</th>\n",
              "      <th>education</th>\n",
              "      <th>grade</th>\n",
              "      <th>marital_status</th>\n",
              "      <th>job</th>\n",
              "      <th>family_role</th>\n",
              "      <th>race</th>\n",
              "      <th>age</th>\n",
              "      <th>country</th>\n",
              "      <th>gender</th>\n",
              "      <th>salary</th>\n",
              "    </tr>\n",
              "  </thead>\n",
              "  <tbody>\n",
              "    <tr>\n",
              "      <th>0</th>\n",
              "      <td>0</td>\n",
              "      <td>50</td>\n",
              "      <td>6</td>\n",
              "      <td>9</td>\n",
              "      <td>13</td>\n",
              "      <td>2</td>\n",
              "      <td>4</td>\n",
              "      <td>0</td>\n",
              "      <td>4</td>\n",
              "      <td>13</td>\n",
              "      <td>39</td>\n",
              "      <td>1</td>\n",
              "      <td>0</td>\n",
              "    </tr>\n",
              "    <tr>\n",
              "      <th>1</th>\n",
              "      <td>1</td>\n",
              "      <td>38</td>\n",
              "      <td>4</td>\n",
              "      <td>11</td>\n",
              "      <td>9</td>\n",
              "      <td>0</td>\n",
              "      <td>6</td>\n",
              "      <td>1</td>\n",
              "      <td>4</td>\n",
              "      <td>40</td>\n",
              "      <td>39</td>\n",
              "      <td>1</td>\n",
              "      <td>0</td>\n",
              "    </tr>\n",
              "    <tr>\n",
              "      <th>2</th>\n",
              "      <td>2</td>\n",
              "      <td>53</td>\n",
              "      <td>4</td>\n",
              "      <td>1</td>\n",
              "      <td>7</td>\n",
              "      <td>2</td>\n",
              "      <td>6</td>\n",
              "      <td>0</td>\n",
              "      <td>2</td>\n",
              "      <td>40</td>\n",
              "      <td>39</td>\n",
              "      <td>1</td>\n",
              "      <td>0</td>\n",
              "    </tr>\n",
              "    <tr>\n",
              "      <th>3</th>\n",
              "      <td>3</td>\n",
              "      <td>28</td>\n",
              "      <td>4</td>\n",
              "      <td>9</td>\n",
              "      <td>13</td>\n",
              "      <td>2</td>\n",
              "      <td>10</td>\n",
              "      <td>5</td>\n",
              "      <td>2</td>\n",
              "      <td>40</td>\n",
              "      <td>5</td>\n",
              "      <td>0</td>\n",
              "      <td>0</td>\n",
              "    </tr>\n",
              "    <tr>\n",
              "      <th>4</th>\n",
              "      <td>4</td>\n",
              "      <td>37</td>\n",
              "      <td>4</td>\n",
              "      <td>12</td>\n",
              "      <td>14</td>\n",
              "      <td>2</td>\n",
              "      <td>4</td>\n",
              "      <td>5</td>\n",
              "      <td>4</td>\n",
              "      <td>40</td>\n",
              "      <td>39</td>\n",
              "      <td>0</td>\n",
              "      <td>0</td>\n",
              "    </tr>\n",
              "    <tr>\n",
              "      <th>...</th>\n",
              "      <td>...</td>\n",
              "      <td>...</td>\n",
              "      <td>...</td>\n",
              "      <td>...</td>\n",
              "      <td>...</td>\n",
              "      <td>...</td>\n",
              "      <td>...</td>\n",
              "      <td>...</td>\n",
              "      <td>...</td>\n",
              "      <td>...</td>\n",
              "      <td>...</td>\n",
              "      <td>...</td>\n",
              "      <td>...</td>\n",
              "    </tr>\n",
              "    <tr>\n",
              "      <th>32555</th>\n",
              "      <td>32555</td>\n",
              "      <td>27</td>\n",
              "      <td>4</td>\n",
              "      <td>7</td>\n",
              "      <td>12</td>\n",
              "      <td>2</td>\n",
              "      <td>13</td>\n",
              "      <td>5</td>\n",
              "      <td>4</td>\n",
              "      <td>38</td>\n",
              "      <td>39</td>\n",
              "      <td>0</td>\n",
              "      <td>0</td>\n",
              "    </tr>\n",
              "    <tr>\n",
              "      <th>32556</th>\n",
              "      <td>32556</td>\n",
              "      <td>40</td>\n",
              "      <td>4</td>\n",
              "      <td>11</td>\n",
              "      <td>9</td>\n",
              "      <td>2</td>\n",
              "      <td>7</td>\n",
              "      <td>0</td>\n",
              "      <td>4</td>\n",
              "      <td>40</td>\n",
              "      <td>39</td>\n",
              "      <td>1</td>\n",
              "      <td>1</td>\n",
              "    </tr>\n",
              "    <tr>\n",
              "      <th>32557</th>\n",
              "      <td>32557</td>\n",
              "      <td>58</td>\n",
              "      <td>4</td>\n",
              "      <td>11</td>\n",
              "      <td>9</td>\n",
              "      <td>6</td>\n",
              "      <td>1</td>\n",
              "      <td>4</td>\n",
              "      <td>4</td>\n",
              "      <td>40</td>\n",
              "      <td>39</td>\n",
              "      <td>0</td>\n",
              "      <td>0</td>\n",
              "    </tr>\n",
              "    <tr>\n",
              "      <th>32558</th>\n",
              "      <td>32558</td>\n",
              "      <td>22</td>\n",
              "      <td>4</td>\n",
              "      <td>11</td>\n",
              "      <td>9</td>\n",
              "      <td>4</td>\n",
              "      <td>1</td>\n",
              "      <td>3</td>\n",
              "      <td>4</td>\n",
              "      <td>20</td>\n",
              "      <td>39</td>\n",
              "      <td>1</td>\n",
              "      <td>0</td>\n",
              "    </tr>\n",
              "    <tr>\n",
              "      <th>32559</th>\n",
              "      <td>32559</td>\n",
              "      <td>52</td>\n",
              "      <td>5</td>\n",
              "      <td>11</td>\n",
              "      <td>9</td>\n",
              "      <td>2</td>\n",
              "      <td>4</td>\n",
              "      <td>5</td>\n",
              "      <td>4</td>\n",
              "      <td>40</td>\n",
              "      <td>39</td>\n",
              "      <td>0</td>\n",
              "      <td>1</td>\n",
              "    </tr>\n",
              "  </tbody>\n",
              "</table>\n",
              "<p>32560 rows × 13 columns</p>\n",
              "</div>"
            ],
            "text/plain": [
              "       Unnamed: 0  id  employer  education  ...  age  country  gender  salary\n",
              "0               0  50         6          9  ...   13       39       1       0\n",
              "1               1  38         4         11  ...   40       39       1       0\n",
              "2               2  53         4          1  ...   40       39       1       0\n",
              "3               3  28         4          9  ...   40        5       0       0\n",
              "4               4  37         4         12  ...   40       39       0       0\n",
              "...           ...  ..       ...        ...  ...  ...      ...     ...     ...\n",
              "32555       32555  27         4          7  ...   38       39       0       0\n",
              "32556       32556  40         4         11  ...   40       39       1       1\n",
              "32557       32557  58         4         11  ...   40       39       0       0\n",
              "32558       32558  22         4         11  ...   20       39       1       0\n",
              "32559       32559  52         5         11  ...   40       39       0       1\n",
              "\n",
              "[32560 rows x 13 columns]"
            ]
          },
          "metadata": {
            "tags": []
          },
          "execution_count": 86
        }
      ]
    },
    {
      "cell_type": "code",
      "metadata": {
        "id": "Po3ZUNz70qrg",
        "colab_type": "code",
        "colab": {}
      },
      "source": [
        "income=income.drop(['Unnamed: 0'],axis=1)"
      ],
      "execution_count": 0,
      "outputs": []
    },
    {
      "cell_type": "code",
      "metadata": {
        "id": "dekDmBytFh4n",
        "colab_type": "code",
        "colab": {
          "base_uri": "https://localhost:8080/",
          "height": 68
        },
        "outputId": "ef601b8b-f8e6-4aad-8404-125e8ac672e2"
      },
      "source": [
        "income.columns"
      ],
      "execution_count": 88,
      "outputs": [
        {
          "output_type": "execute_result",
          "data": {
            "text/plain": [
              "Index(['id', 'employer', 'education', 'grade', 'marital_status', 'job',\n",
              "       'family_role', 'race', 'age', 'country', 'gender', 'salary'],\n",
              "      dtype='object')"
            ]
          },
          "metadata": {
            "tags": []
          },
          "execution_count": 88
        }
      ]
    },
    {
      "cell_type": "code",
      "metadata": {
        "id": "Lgh27pSdFcAv",
        "colab_type": "code",
        "colab": {
          "base_uri": "https://localhost:8080/",
          "height": 34
        },
        "outputId": "08d72c9e-c450-44b9-e876-2d5e878cb361"
      },
      "source": [
        "#selecting the dependent and independent variables\n",
        "#independent variables \n",
        "X=income.drop('salary',axis=1)\n",
        "#dependent variables\n",
        "y=income['salary']\n",
        "print(\"The shape of X is:\",{X.shape},\"and the shape of y is:\",{y.shape})"
      ],
      "execution_count": 89,
      "outputs": [
        {
          "output_type": "stream",
          "text": [
            "The shape of X is: {(32560, 11)} and the shape of y is: {(32560,)}\n"
          ],
          "name": "stdout"
        }
      ]
    },
    {
      "cell_type": "code",
      "metadata": {
        "id": "auREfTfF1cwQ",
        "colab_type": "code",
        "colab": {}
      },
      "source": [
        "# Performing Data Preprocessing \n",
        "from sklearn.model_selection import train_test_split\n",
        "X_train, X_test, y_train, y_test = train_test_split(X, y)"
      ],
      "execution_count": 0,
      "outputs": []
    },
    {
      "cell_type": "code",
      "metadata": {
        "id": "zOCkeJ7A1dAu",
        "colab_type": "code",
        "colab": {}
      },
      "source": [
        "# Scaling our Data\n",
        "# \n",
        "from sklearn.preprocessing import StandardScaler\n",
        "feature_scaler = StandardScaler()\n",
        "X_train = feature_scaler.fit_transform(X_train)\n",
        "X_test = feature_scaler.transform(X_test)"
      ],
      "execution_count": 0,
      "outputs": []
    },
    {
      "cell_type": "code",
      "metadata": {
        "id": "bvCPEhi41dr0",
        "colab_type": "code",
        "colab": {}
      },
      "source": [
        "# Training and Cross Validation\n",
        "from sklearn.ensemble import RandomForestClassifier\n",
        "classifier = RandomForestClassifier(n_estimators=300, random_state=0)"
      ],
      "execution_count": 0,
      "outputs": []
    },
    {
      "cell_type": "code",
      "metadata": {
        "id": "WI0U6aiE1d5F",
        "colab_type": "code",
        "colab": {}
      },
      "source": [
        "# Training and Cross Validation\n",
        "from sklearn.model_selection import cross_val_score\n",
        "all_accuracies = cross_val_score(estimator=classifier, X=X_train, y=y_train, cv=5)"
      ],
      "execution_count": 0,
      "outputs": []
    },
    {
      "cell_type": "code",
      "metadata": {
        "id": "VFFQjeja1eM1",
        "colab_type": "code",
        "colab": {
          "base_uri": "https://localhost:8080/",
          "height": 34
        },
        "outputId": "95afbd7f-4563-4077-e832-1544f6daa42e"
      },
      "source": [
        "# Printing the accuracies returned for five folds \n",
        "# by the cross_val_score method by calling print on all_accuracies\n",
        "print(all_accuracies.mean())"
      ],
      "execution_count": 94,
      "outputs": [
        {
          "output_type": "stream",
          "text": [
            "0.8205569205569206\n"
          ],
          "name": "stdout"
        }
      ]
    },
    {
      "cell_type": "code",
      "metadata": {
        "id": "ZoZ-fzQQ1dy9",
        "colab_type": "code",
        "colab": {}
      },
      "source": [
        "# Step 1: Hyperparameters: Getting Started with Grid Search\n",
        "# ---\n",
        "# Wcreate a dictionary of all the parameters and their corresponding \n",
        "# set of values that you want to test for best performance. \n",
        "# The name of the dictionary items corresponds to the parameter name \n",
        "# and the value corresponds to the list of values for the parameter.\n",
        "# grid_param dictionary with three parameters n_estimators, criterion, and bootstrap. \n",
        "# find which value (out of 100, 300, 500, 800, and 1000) provides the highest accuracy. \n",
        "# find which value results in the highest performance for the criterion parameter: \"gini\" or \"entropy\"? \n",
        "# The Grid Search algorithm basically tries all possible combinations of parameter values and returns the combination with the highest accuracy. \n",
        "# in this case the algorithm will check 20 combinations (5 x 2 x 2 = 20).\n",
        "# ---\n",
        "# \n",
        "grid_param = {\n",
        "    'n_estimators': [100, 300, 500, 800, 1000],\n",
        "    'criterion': ['gini', 'entropy'],\n",
        "    'bootstrap': [True, False]\n",
        "}"
      ],
      "execution_count": 0,
      "outputs": []
    },
    {
      "cell_type": "code",
      "metadata": {
        "id": "dbCuHJhq3U7E",
        "colab_type": "code",
        "colab": {}
      },
      "source": [
        "# Step 2: Instantiating GridSearchCV object\n",
        "# ---\n",
        "# create an instance of the GridSearchCV class. \n",
        "# pass values for the estimator parameter, \n",
        "# which basically is the algorithm that you want to execute. \n",
        "# The param_grid parameter takes the parameter dictionary created as parameter, the scoring parameter \n",
        "# takes the performance metrics, the cv parameter corresponds to number of folds, which is 5 in this case, and finally \n",
        "# the n_jobs parameter refers to the number of CPU's that we want to use for execution. \n",
        "# A value of -1 for n_jobs parameter means that use all available computing power.\n",
        "# --- \n",
        "from sklearn.model_selection import GridSearchCV\n",
        "gd_sr = GridSearchCV(estimator=classifier,\n",
        "                     param_grid=grid_param,\n",
        "                     scoring='accuracy',\n",
        "                     cv=5,\n",
        "                     n_jobs=-1)"
      ],
      "execution_count": 0,
      "outputs": []
    },
    {
      "cell_type": "code",
      "metadata": {
        "id": "FQj_7uZV1dqZ",
        "colab_type": "code",
        "colab": {
          "base_uri": "https://localhost:8080/",
          "height": 428
        },
        "outputId": "d06300f9-21af-48e1-d944-b8f94df4df7b"
      },
      "source": [
        "## Step 3: Calling the fit method \n",
        "gd_sr.fit(X_train, y_train)"
      ],
      "execution_count": 97,
      "outputs": [
        {
          "output_type": "stream",
          "text": [
            "/usr/local/lib/python3.6/dist-packages/joblib/externals/loky/process_executor.py:691: UserWarning: A worker stopped while some jobs were given to the executor. This can be caused by a too short worker timeout or by a memory leak.\n",
            "  \"timeout or by a memory leak.\", UserWarning\n"
          ],
          "name": "stderr"
        },
        {
          "output_type": "execute_result",
          "data": {
            "text/plain": [
              "GridSearchCV(cv=5, error_score=nan,\n",
              "             estimator=RandomForestClassifier(bootstrap=True, ccp_alpha=0.0,\n",
              "                                              class_weight=None,\n",
              "                                              criterion='gini', max_depth=None,\n",
              "                                              max_features='auto',\n",
              "                                              max_leaf_nodes=None,\n",
              "                                              max_samples=None,\n",
              "                                              min_impurity_decrease=0.0,\n",
              "                                              min_impurity_split=None,\n",
              "                                              min_samples_leaf=1,\n",
              "                                              min_samples_split=2,\n",
              "                                              min_weight_fraction_leaf=0.0,\n",
              "                                              n_estimators=300, n_jobs=None,\n",
              "                                              oob_score=False, random_state=0,\n",
              "                                              verbose=0, warm_start=False),\n",
              "             iid='deprecated', n_jobs=-1,\n",
              "             param_grid={'bootstrap': [True, False],\n",
              "                         'criterion': ['gini', 'entropy'],\n",
              "                         'n_estimators': [100, 300, 500, 800, 1000]},\n",
              "             pre_dispatch='2*n_jobs', refit=True, return_train_score=False,\n",
              "             scoring='accuracy', verbose=0)"
            ]
          },
          "metadata": {
            "tags": []
          },
          "execution_count": 97
        }
      ]
    },
    {
      "cell_type": "code",
      "metadata": {
        "id": "KPzxTIrP4P_F",
        "colab_type": "code",
        "colab": {}
      },
      "source": [
        "# Step 4: Checking the parameters that return the highest accuracy\n",
        "# --- \n",
        "#  print the sr.best_params_ attribute of the GridSearchCV object\n",
        "# ---\n",
        "# \n",
        "best_parameters = gd_sr.best_params_\n",
        "print(best_parameters)\n",
        "\n",
        "# The result shows that the highest accuracy is achieved \n",
        "# when the n_estimators are 300, bootstrap is True and criterion is \"gini\". \n",
        "# It would be a good idea to add more number of estimators \n",
        "# and see if performance further increases since the highest \n",
        "# allowed value of n_estimators was chosen."
      ],
      "execution_count": 0,
      "outputs": []
    },
    {
      "cell_type": "code",
      "metadata": {
        "id": "eltUze2G4kHL",
        "colab_type": "code",
        "colab": {}
      },
      "source": [
        "# Step 5: Finding the obtained accuracy\n",
        "# ---\n",
        "# The last and final step of Grid Search algorithm is \n",
        "# to find the accuracy obtained using the best parameters. \n",
        "# Previously we had a mean accuracy of 82.0884520884521%.\n",
        "# To find the best accuracy achieved, we execute the following code:\n",
        "# ---\n",
        "# \n",
        "best_result = gd_sr.best_score_\n",
        "print(best_result)\n",
        "\n",
        "# The accuracy achieved is: 0.6505 of 65.05% which is only slightly better than 64.22%. \n",
        "# To improve this further, it would be good to test values for other parameters \n",
        "# of Random Forest algorithm, such as max_features, max_depth, max_leaf_nodes, etc. \n",
        "# to see if the accuracy further improves or not."
      ],
      "execution_count": 0,
      "outputs": []
    },
    {
      "cell_type": "code",
      "metadata": {
        "id": "VY-oZ1iK4kd6",
        "colab_type": "code",
        "colab": {}
      },
      "source": [
        ""
      ],
      "execution_count": 0,
      "outputs": []
    },
    {
      "cell_type": "code",
      "metadata": {
        "id": "g_O6O03s1c_L",
        "colab_type": "code",
        "colab": {}
      },
      "source": [
        ""
      ],
      "execution_count": 0,
      "outputs": []
    }
  ]
}