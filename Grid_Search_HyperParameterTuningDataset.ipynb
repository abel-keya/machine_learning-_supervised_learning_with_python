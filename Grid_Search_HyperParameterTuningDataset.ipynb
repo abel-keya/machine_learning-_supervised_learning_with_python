{
  "nbformat": 4,
  "nbformat_minor": 0,
  "metadata": {
    "colab": {
      "name": "Grid Search_HyperParameterTuningDataset",
      "provenance": [],
      "collapsed_sections": [
        "k6mu0__7OjF8",
        "LoZYTKzdNPw1"
      ],
      "include_colab_link": true
    },
    "kernelspec": {
      "name": "python3",
      "display_name": "Python 3"
    }
  },
  "cells": [
    {
      "cell_type": "markdown",
      "metadata": {
        "id": "view-in-github",
        "colab_type": "text"
      },
      "source": [
        "<a href=\"https://colab.research.google.com/github/abel-keya/machine_learning-_supervised_learning_with_python/blob/master/Grid_Search_HyperParameterTuningDataset.ipynb\" target=\"_parent\"><img src=\"https://colab.research.google.com/assets/colab-badge.svg\" alt=\"Open In Colab\"/></a>"
      ]
    },
    {
      "cell_type": "markdown",
      "metadata": {
        "id": "X5ma2Mw6_6Dt",
        "colab_type": "text"
      },
      "source": [
        "# Python Programming: Grid Search"
      ]
    },
    {
      "cell_type": "markdown",
      "metadata": {
        "id": "k6mu0__7OjF8",
        "colab_type": "text"
      },
      "source": [
        "## Example"
      ]
    },
    {
      "cell_type": "code",
      "metadata": {
        "id": "tftAsaCN_xbw",
        "colab_type": "code",
        "colab": {}
      },
      "source": [
        "## Example 1\n",
        "# ---\n",
        "# Perform hyperparameter tuning then predict the quality of wine using Grid Search. \n",
        "# ---\n",
        "# Dataset url = http://bit.ly/TuningDataset\n",
        "# ---\n",
        "# OUR CODE GOES BELOW "
      ],
      "execution_count": 0,
      "outputs": []
    },
    {
      "cell_type": "code",
      "metadata": {
        "id": "bnvF1TbuBFSP",
        "colab_type": "code",
        "colab": {}
      },
      "source": [
        "# Importing the required libraries\n",
        "# ---\n",
        "#\n",
        "import pandas as pd\n",
        "import numpy as np"
      ],
      "execution_count": 0,
      "outputs": []
    },
    {
      "cell_type": "code",
      "metadata": {
        "id": "6io-7e6WAaLU",
        "colab_type": "code",
        "colab": {}
      },
      "source": [
        "# Importing our Dataset\n",
        "# ---\n",
        "#\n",
        "dataset = pd.read_csv(\"http://bit.ly/TuningDataset\", sep=';')"
      ],
      "execution_count": 0,
      "outputs": []
    },
    {
      "cell_type": "code",
      "metadata": {
        "id": "fprG-77uCN81",
        "colab_type": "code",
        "outputId": "a1ec7963-c953-41e3-ceeb-bbbeeee6d13b",
        "colab": {
          "base_uri": "https://localhost:8080/",
          "height": 204
        }
      },
      "source": [
        "# Previewing our Dataset\n",
        "# ---\n",
        "#\n",
        "dataset.head()"
      ],
      "execution_count": 0,
      "outputs": [
        {
          "output_type": "execute_result",
          "data": {
            "text/html": [
              "<div>\n",
              "<style scoped>\n",
              "    .dataframe tbody tr th:only-of-type {\n",
              "        vertical-align: middle;\n",
              "    }\n",
              "\n",
              "    .dataframe tbody tr th {\n",
              "        vertical-align: top;\n",
              "    }\n",
              "\n",
              "    .dataframe thead th {\n",
              "        text-align: right;\n",
              "    }\n",
              "</style>\n",
              "<table border=\"1\" class=\"dataframe\">\n",
              "  <thead>\n",
              "    <tr style=\"text-align: right;\">\n",
              "      <th></th>\n",
              "      <th>fixed acidity</th>\n",
              "      <th>volatile acidity</th>\n",
              "      <th>citric acid</th>\n",
              "      <th>residual sugar</th>\n",
              "      <th>chlorides</th>\n",
              "      <th>free sulfur dioxide</th>\n",
              "      <th>total sulfur dioxide</th>\n",
              "      <th>density</th>\n",
              "      <th>pH</th>\n",
              "      <th>sulphates</th>\n",
              "      <th>alcohol</th>\n",
              "      <th>quality</th>\n",
              "    </tr>\n",
              "  </thead>\n",
              "  <tbody>\n",
              "    <tr>\n",
              "      <th>0</th>\n",
              "      <td>7.4</td>\n",
              "      <td>0.70</td>\n",
              "      <td>0.00</td>\n",
              "      <td>1.9</td>\n",
              "      <td>0.076</td>\n",
              "      <td>11.0</td>\n",
              "      <td>34.0</td>\n",
              "      <td>0.9978</td>\n",
              "      <td>3.51</td>\n",
              "      <td>0.56</td>\n",
              "      <td>9.4</td>\n",
              "      <td>5</td>\n",
              "    </tr>\n",
              "    <tr>\n",
              "      <th>1</th>\n",
              "      <td>7.8</td>\n",
              "      <td>0.88</td>\n",
              "      <td>0.00</td>\n",
              "      <td>2.6</td>\n",
              "      <td>0.098</td>\n",
              "      <td>25.0</td>\n",
              "      <td>67.0</td>\n",
              "      <td>0.9968</td>\n",
              "      <td>3.20</td>\n",
              "      <td>0.68</td>\n",
              "      <td>9.8</td>\n",
              "      <td>5</td>\n",
              "    </tr>\n",
              "    <tr>\n",
              "      <th>2</th>\n",
              "      <td>7.8</td>\n",
              "      <td>0.76</td>\n",
              "      <td>0.04</td>\n",
              "      <td>2.3</td>\n",
              "      <td>0.092</td>\n",
              "      <td>15.0</td>\n",
              "      <td>54.0</td>\n",
              "      <td>0.9970</td>\n",
              "      <td>3.26</td>\n",
              "      <td>0.65</td>\n",
              "      <td>9.8</td>\n",
              "      <td>5</td>\n",
              "    </tr>\n",
              "    <tr>\n",
              "      <th>3</th>\n",
              "      <td>11.2</td>\n",
              "      <td>0.28</td>\n",
              "      <td>0.56</td>\n",
              "      <td>1.9</td>\n",
              "      <td>0.075</td>\n",
              "      <td>17.0</td>\n",
              "      <td>60.0</td>\n",
              "      <td>0.9980</td>\n",
              "      <td>3.16</td>\n",
              "      <td>0.58</td>\n",
              "      <td>9.8</td>\n",
              "      <td>6</td>\n",
              "    </tr>\n",
              "    <tr>\n",
              "      <th>4</th>\n",
              "      <td>7.4</td>\n",
              "      <td>0.70</td>\n",
              "      <td>0.00</td>\n",
              "      <td>1.9</td>\n",
              "      <td>0.076</td>\n",
              "      <td>11.0</td>\n",
              "      <td>34.0</td>\n",
              "      <td>0.9978</td>\n",
              "      <td>3.51</td>\n",
              "      <td>0.56</td>\n",
              "      <td>9.4</td>\n",
              "      <td>5</td>\n",
              "    </tr>\n",
              "  </tbody>\n",
              "</table>\n",
              "</div>"
            ],
            "text/plain": [
              "   fixed acidity  volatile acidity  citric acid  ...  sulphates  alcohol  quality\n",
              "0            7.4              0.70         0.00  ...       0.56      9.4        5\n",
              "1            7.8              0.88         0.00  ...       0.68      9.8        5\n",
              "2            7.8              0.76         0.04  ...       0.65      9.8        5\n",
              "3           11.2              0.28         0.56  ...       0.58      9.8        6\n",
              "4            7.4              0.70         0.00  ...       0.56      9.4        5\n",
              "\n",
              "[5 rows x 12 columns]"
            ]
          },
          "metadata": {
            "tags": []
          },
          "execution_count": 3
        }
      ]
    },
    {
      "cell_type": "code",
      "metadata": {
        "id": "85-ZhbKfCQNu",
        "colab_type": "code",
        "colab": {}
      },
      "source": [
        "# Performing Data Preprocessing\n",
        "# ---\n",
        "# \n",
        "X = dataset.iloc[:, 0:11].values\n",
        "y = dataset.iloc[:, 11].values"
      ],
      "execution_count": 0,
      "outputs": []
    },
    {
      "cell_type": "code",
      "metadata": {
        "id": "HRYfL5brDIMI",
        "colab_type": "code",
        "colab": {}
      },
      "source": [
        "# Performing Data Preprocessing\n",
        "# ---\n",
        "# \n",
        "from sklearn.model_selection import train_test_split\n",
        "X_train, X_test, y_train, y_test = train_test_split(X, y)"
      ],
      "execution_count": 0,
      "outputs": []
    },
    {
      "cell_type": "code",
      "metadata": {
        "id": "JfNu9GniC6TL",
        "colab_type": "code",
        "colab": {}
      },
      "source": [
        "# Scaling our Data\n",
        "# ---\n",
        "# \n",
        "from sklearn.preprocessing import StandardScaler\n",
        "feature_scaler = StandardScaler()\n",
        "X_train = feature_scaler.fit_transform(X_train)\n",
        "X_test = feature_scaler.transform(X_test)"
      ],
      "execution_count": 0,
      "outputs": []
    },
    {
      "cell_type": "code",
      "metadata": {
        "id": "jQbqNGppIwCD",
        "colab_type": "code",
        "colab": {}
      },
      "source": [
        "# Training and Cross Validation\n",
        "# ---\n",
        "# \n",
        "from sklearn.ensemble import RandomForestClassifier\n",
        "classifier = RandomForestClassifier(n_estimators=300, random_state=0)"
      ],
      "execution_count": 0,
      "outputs": []
    },
    {
      "cell_type": "code",
      "metadata": {
        "id": "qQz-BvHSJD1C",
        "colab_type": "code",
        "colab": {}
      },
      "source": [
        "# Training and Cross Validation\n",
        "# ---\n",
        "# Next, to implement cross validation, the cross_val_score method \n",
        "# of the sklearn.model_selection library can be used. \n",
        "# The cross_val_score returns the accuracy for all the folds. \n",
        "# Values for 4 parameters are required to be passed to the cross_val_score class. \n",
        "# The first parameter is estimator which basically specifies \n",
        "# the algorithm that you want to use for cross validation. \n",
        "# The second and third parameters, X and y, contain the X_train and y_train data i.e. features and labels. \n",
        "# Finally the number of folds is passed to the cv parameter as shown in the following code\n",
        "# ---\n",
        "# \n",
        "from sklearn.model_selection import cross_val_score\n",
        "all_accuracies = cross_val_score(estimator=classifier, X=X_train, y=y_train, cv=5)"
      ],
      "execution_count": 0,
      "outputs": []
    },
    {
      "cell_type": "code",
      "metadata": {
        "id": "g288wwhYJEcS",
        "colab_type": "code",
        "outputId": "6fa29373-b9a1-48d1-e11b-25cbe53a91d2",
        "colab": {
          "base_uri": "https://localhost:8080/",
          "height": 34
        }
      },
      "source": [
        "# Printing the accuracies returned for five folds \n",
        "# by the cross_val_score method by calling print on all_accuracies\n",
        "# ---\n",
        "#\n",
        "print(all_accuracies.mean())"
      ],
      "execution_count": 0,
      "outputs": [
        {
          "output_type": "stream",
          "text": [
            "0.66639470013947\n"
          ],
          "name": "stdout"
        }
      ]
    },
    {
      "cell_type": "code",
      "metadata": {
        "id": "CWXSIEBADSaw",
        "colab_type": "code",
        "colab": {}
      },
      "source": [
        "# Step 1: Hyperparameters: Getting Started with Grid Search\n",
        "# ---\n",
        "# We create a dictionary of all the parameters and their corresponding \n",
        "# set of values that you want to test for best performance. \n",
        "# The name of the dictionary items corresponds to the parameter name \n",
        "# and the value corresponds to the list of values for the parameter.\n",
        "# As shown grid_param dictionary with three parameters n_estimators, criterion, and bootstrap. \n",
        "# The parameter values that we want to try out are passed in the list. \n",
        "# For instance, in the above script we want to find which value \n",
        "# (out of 100, 300, 500, 800, and 1000) provides the highest accuracy. \n",
        "# Similarly, we want to find which value results in the \n",
        "# highest performance for the criterion parameter: \"gini\" or \"entropy\"? \n",
        "# The Grid Search algorithm basically tries all possible combinations \n",
        "# of parameter values and returns the combination with the highest accuracy. \n",
        "# For instance, in the above case the algorithm will check 20 combinations (5 x 2 x 2 = 20).\n",
        "# ---\n",
        "# \n",
        "grid_param = {\n",
        "    'n_estimators': [100, 300, 500, 800, 1000],\n",
        "    'criterion': ['gini', 'entropy'],\n",
        "    'bootstrap': [True, False]\n",
        "}"
      ],
      "execution_count": 0,
      "outputs": []
    },
    {
      "cell_type": "code",
      "metadata": {
        "id": "BP1h7wGzEFtq",
        "colab_type": "code",
        "colab": {}
      },
      "source": [
        "# Step 2: Instantiating GridSearchCV object\n",
        "# ---\n",
        "# Once the parameter dictionary is created, the next step \n",
        "# is to create an instance of the GridSearchCV class. \n",
        "# We need to pass values for the estimator parameter, \n",
        "# which basically is the algorithm that you want to execute. \n",
        "# The param_grid parameter takes the parameter dictionary \n",
        "# that we just created as parameter, the scoring parameter \n",
        "# takes the performance metrics, the cv parameter corresponds \n",
        "# to number of folds, which is 5 in our case, and finally \n",
        "# the n_jobs parameter refers to the number of CPU's that we want to use for execution. \n",
        "# A value of -1 for n_jobs parameter means that use all available computing power.\n",
        "# ---\n",
        "# \n",
        "from sklearn.model_selection import GridSearchCV\n",
        "gd_sr = GridSearchCV(estimator=classifier,\n",
        "                     param_grid=grid_param,\n",
        "                     scoring='accuracy',\n",
        "                     cv=5,\n",
        "                     n_jobs=-1)"
      ],
      "execution_count": 0,
      "outputs": []
    },
    {
      "cell_type": "code",
      "metadata": {
        "id": "4qdF_J2DHvEP",
        "colab_type": "code",
        "outputId": "6a47a961-2426-4720-b882-e9cb9c61f2f3",
        "colab": {
          "base_uri": "https://localhost:8080/",
          "height": 374
        }
      },
      "source": [
        "# Step 3: Calling the fit method\n",
        "# ---\n",
        "# Once the GridSearchCV class is initialized, we call the fit method of the class \n",
        "# and pass it the training and test set, as shown in the following code.\n",
        "# The method might take abit of some time to execute. \n",
        "# This is the drawback - GridSearchCV will go through all the intermediate \n",
        "# combinations of hyperparameters which makes grid search computationally very expensive.\n",
        "# ---\n",
        "# \n",
        "gd_sr.fit(X_train, y_train)"
      ],
      "execution_count": 0,
      "outputs": [
        {
          "output_type": "execute_result",
          "data": {
            "text/plain": [
              "GridSearchCV(cv=5, error_score=nan,\n",
              "             estimator=RandomForestClassifier(bootstrap=True, ccp_alpha=0.0,\n",
              "                                              class_weight=None,\n",
              "                                              criterion='gini', max_depth=None,\n",
              "                                              max_features='auto',\n",
              "                                              max_leaf_nodes=None,\n",
              "                                              max_samples=None,\n",
              "                                              min_impurity_decrease=0.0,\n",
              "                                              min_impurity_split=None,\n",
              "                                              min_samples_leaf=1,\n",
              "                                              min_samples_split=2,\n",
              "                                              min_weight_fraction_leaf=0.0,\n",
              "                                              n_estimators=300, n_jobs=None,\n",
              "                                              oob_score=False, random_state=0,\n",
              "                                              verbose=0, warm_start=False),\n",
              "             iid='deprecated', n_jobs=-1,\n",
              "             param_grid={'bootstrap': [True, False],\n",
              "                         'criterion': ['gini', 'entropy'],\n",
              "                         'n_estimators': [100, 300, 500, 800, 1000]},\n",
              "             pre_dispatch='2*n_jobs', refit=True, return_train_score=False,\n",
              "             scoring='accuracy', verbose=0)"
            ]
          },
          "metadata": {
            "tags": []
          },
          "execution_count": 12
        }
      ]
    },
    {
      "cell_type": "code",
      "metadata": {
        "id": "Y4XzL4IYGh-8",
        "colab_type": "code",
        "colab": {}
      },
      "source": [
        "# Step 4: Checking the parameters that return the highest accuracy\n",
        "# --- \n",
        "# To do so, we print the sr.best_params_ attribute of the GridSearchCV object, as shown below:\n",
        "# ---\n",
        "# \n",
        "best_parameters = gd_sr.best_params_\n",
        "print(best_parameters)\n",
        "\n",
        "# The result shows that the highest accuracy is achieved \n",
        "# when the n_estimators are 300, bootstrap is True and criterion is \"gini\". \n",
        "# It would be a good idea to add more number of estimators \n",
        "# and see if performance further increases since the highest \n",
        "# allowed value of n_estimators was chosen."
      ],
      "execution_count": 0,
      "outputs": []
    },
    {
      "cell_type": "code",
      "metadata": {
        "id": "Tt0Nj8sDH7XT",
        "colab_type": "code",
        "colab": {}
      },
      "source": [
        "# Step 5: Finding the obtained accuracy\n",
        "# ---\n",
        "# The last and final step of Grid Search algorithm is \n",
        "# to find the accuracy obtained using the best parameters. \n",
        "# Previously we had a mean accuracy of 64.22%.\n",
        "# To find the best accuracy achieved, we execute the following code:\n",
        "# ---\n",
        "# \n",
        "best_result = gd_sr.best_score_\n",
        "print(best_result)\n",
        "\n",
        "# The accuracy achieved is: 0.6505 of 65.05% which is only slightly better than 64.22%. \n",
        "# To improve this further, it would be good to test values for other parameters \n",
        "# of Random Forest algorithm, such as max_features, max_depth, max_leaf_nodes, etc. \n",
        "# to see if the accuracy further improves or not."
      ],
      "execution_count": 0,
      "outputs": []
    },
    {
      "cell_type": "markdown",
      "metadata": {
        "id": "LoZYTKzdNPw1",
        "colab_type": "text"
      },
      "source": [
        "## <font color=\"green\">Challenges</font>"
      ]
    },
    {
      "cell_type": "code",
      "metadata": {
        "id": "a2Fn-tSkKeWl",
        "colab_type": "code",
        "colab": {}
      },
      "source": [
        "## Challenge 1\n",
        "# ---\n",
        "# Question: Implement hyperparameter tuning upon creating a model to classify \n",
        "# incomes of persons given the following dataset.\n",
        "# ---\n",
        "# Dataset url = http://bit.ly/HyperParameterTuningDataset\n",
        "# ---\n",
        "# OUR CODE GOES BELOW\n",
        "#"
      ],
      "execution_count": 0,
      "outputs": []
    }
  ]
}