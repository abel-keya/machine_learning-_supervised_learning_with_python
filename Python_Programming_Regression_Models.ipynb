{
  "nbformat": 4,
  "nbformat_minor": 0,
  "metadata": {
    "colab": {
      "name": "Python Programming: Regression Models",
      "provenance": [],
      "collapsed_sections": [
        "zLyoUeyN_3l8",
        "J8qnuGTT_9hd",
        "BrtI5tRJ__0X",
        "4fij2Zj2ABBa",
        "LTkKuHhPACI1"
      ],
      "toc_visible": true,
      "include_colab_link": true
    },
    "kernelspec": {
      "name": "python3",
      "display_name": "Python 3"
    }
  },
  "cells": [
    {
      "cell_type": "markdown",
      "metadata": {
        "id": "view-in-github",
        "colab_type": "text"
      },
      "source": [
        "<a href=\"https://colab.research.google.com/github/abel-keya/machine_learning-_supervised_learning_with_python/blob/master/Python_Programming_Regression_Models.ipynb\" target=\"_parent\"><img src=\"https://colab.research.google.com/assets/colab-badge.svg\" alt=\"Open In Colab\"/></a>"
      ]
    },
    {
      "cell_type": "markdown",
      "metadata": {
        "id": "cWTQ5mjnAZ2v",
        "colab_type": "text"
      },
      "source": [
        "<font color=\"green\">*To start working on this notebook, or any other notebook that we will use in the Moringa Data Science Course, we will need to save our own copy of it. We can do this by clicking File > Save a Copy in Drive. We will then be able to make edits to our own copy of this notebook.*</font>"
      ]
    },
    {
      "cell_type": "markdown",
      "metadata": {
        "id": "v7teL1vs_2GX",
        "colab_type": "text"
      },
      "source": [
        "# Python Programming: Regression Models"
      ]
    },
    {
      "cell_type": "markdown",
      "metadata": {
        "id": "zLyoUeyN_3l8",
        "colab_type": "text"
      },
      "source": [
        "## Challenge 1"
      ]
    },
    {
      "cell_type": "code",
      "metadata": {
        "id": "RA5BSkTq_ut7",
        "colab_type": "code",
        "colab": {}
      },
      "source": [
        "# Question\n",
        "# ---\n",
        "# Predict whether a customer buy life insurance or not.\n",
        "# ---\n",
        "# Dataset url = http://bit.ly/MSInsuranceDataset\n",
        "# Attributes - \n",
        "# 1. age: age of a person \n",
        "# 2. insurance: bought insurance. \n",
        "# O indicates \"No\", 1 indicates \"Yes\"\n",
        "# ---\n",
        "# \n",
        "OUR CODE GOES HERE"
      ],
      "execution_count": 0,
      "outputs": []
    },
    {
      "cell_type": "markdown",
      "metadata": {
        "id": "J8qnuGTT_9hd",
        "colab_type": "text"
      },
      "source": [
        "## Challenge 2"
      ]
    },
    {
      "cell_type": "code",
      "metadata": {
        "id": "x_6MhXssADkm",
        "colab_type": "code",
        "colab": {}
      },
      "source": [
        "# Question\n",
        "# ---\n",
        "# Build a model to predict the presence of a heart disease in a patient.\n",
        "# ---\n",
        "# Dataset url = http://bit.ly/HeartDiseaseDataset\n",
        "# ---\n",
        "# Dataset info = http://bit.ly/HeartDiseaseDatasetInfo\n",
        "# \n",
        "OUR CODE GOES HERE"
      ],
      "execution_count": 0,
      "outputs": []
    },
    {
      "cell_type": "markdown",
      "metadata": {
        "id": "BrtI5tRJ__0X",
        "colab_type": "text"
      },
      "source": [
        "## Challenge 3"
      ]
    },
    {
      "cell_type": "code",
      "metadata": {
        "id": "YNOQ5P5TAELc",
        "colab_type": "code",
        "colab": {}
      },
      "source": [
        "# Question\n",
        "# ---\n",
        "# Create a model to accurately predict insurance costs.\n",
        "# ---\n",
        "# Dataset url = http://bit.ly/InsuranceDataset2\n",
        "# ---\n",
        "# \n",
        "OUR CODE GOES HERE"
      ],
      "execution_count": 0,
      "outputs": []
    },
    {
      "cell_type": "markdown",
      "metadata": {
        "id": "4fij2Zj2ABBa",
        "colab_type": "text"
      },
      "source": [
        "## Challenge 4"
      ]
    },
    {
      "cell_type": "code",
      "metadata": {
        "id": "b5Are2K4AE9S",
        "colab_type": "code",
        "colab": {}
      },
      "source": [
        "# Question\n",
        "# ---\n",
        "# Predict whether income exceeds $50K/yr based on the given dataset.\n",
        "# ---\n",
        "# Dataset url = http://bit.ly/AdultDataset\n",
        "# ---\n",
        "# \n",
        "OUR CODE GOES HERE"
      ],
      "execution_count": 0,
      "outputs": []
    },
    {
      "cell_type": "markdown",
      "metadata": {
        "id": "LTkKuHhPACI1",
        "colab_type": "text"
      },
      "source": [
        "## Challenge 5"
      ]
    },
    {
      "cell_type": "code",
      "metadata": {
        "id": "fWfZP-lCAFih",
        "colab_type": "code",
        "colab": {}
      },
      "source": [
        "# Question\n",
        "# ---\n",
        "# Given the following dataset create a model to predict the maximum temperature.\n",
        "# ---\n",
        "# Dataset url = http://bit.ly/WeatherDataset\n",
        "# ---\n",
        "# \n",
        "OUR CODE GOES HERE"
      ],
      "execution_count": 0,
      "outputs": []
    }
  ]
}